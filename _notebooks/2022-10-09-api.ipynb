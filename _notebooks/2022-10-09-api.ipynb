{
 "cells": [
  {
   "cell_type": "markdown",
   "metadata": {},
   "source": [
    "# Python Quiz for APCSP\n",
    "> Ethan Zhao\n",
    "\n",
    "- toc: true \n",
    "- badges: true\n",
    "- comments: true\n",
    "- categories: [jupyter]"
   ]
  },
  {
   "cell_type": "markdown",
   "metadata": {},
   "source": [
    "# Python quiz"
   ]
  },
  {
   "cell_type": "code",
   "execution_count": 11,
   "metadata": {},
   "outputs": [
    {
     "name": "stdout",
     "output_type": "stream",
     "text": [
      "Hello root!\n",
      "You will be asked 9 questions.\n",
      "Question: Are you ready to take a quiz? [Y/n]\n",
      "Lets get started!\n",
      "Question: What command would you use to display text into the terminal?\n",
      "prinT is correct!\n",
      "Good job :D\n",
      "Question: What command would you use to ask the user for information?\n",
      "input is correct!\n",
      "Good job :D\n",
      "Question: What is the keyword used in Python to define a function?\n",
      "def is correct!\n",
      "Good job :D\n",
      "Question: How would you write a print statement to concatenate a string containing variable A with string 'Hello'? (include print() and use '' instead of \"\"\n",
      "print('Hello' + A) is correct!\n",
      "Good job :D\n",
      "Question: How do we add a pre-made library to our code?\n",
      "imporT is correct!\n",
      "Good job :D\n",
      "Question: We use _______ to store information for later use.\n",
      "VaRiaBles is correct!\n",
      "Good job :D\n",
      "Question: Given the code, {variable = 1} what type of variable is this?\n",
      "integer is correct!\n",
      "Good job :D\n",
      "Question: Given the code, {variable = 1.1} what type of variable is this?\n",
      "float is correct!\n",
      "Good job :D\n",
      "Question: Given the code, {variable = 'Hello'} what type of variable is this?\n",
      "bool is incorrect!\n",
      "Better luck next time :(\n",
      "You got a total of 8 out of 9 (88.89%)!\n"
     ]
    }
   ],
   "source": [
    "# imports\n",
    "import getpass\n",
    "\n",
    "# question format, gets user answer\n",
    "def question_with_response(prompt):\n",
    "    print(\"Question: \" + prompt)\n",
    "    msg = input()\n",
    "    return msg\n",
    "\n",
    "# lists of questions/answers\n",
    "prompts=[\"What command would you use to display text into the terminal?\", \"What command would you use to ask the user for information?\", \"What is the keyword used in Python to define a function?\", \"How would you write a print statement to concatenate a string containing variable A with string 'Hello'? (include print() and use '' instead of \\\"\\\"\", \"How do we add a pre-made library to our code?\", \"We use _______ to store information for later use.\", \"Given the code, {variable = 1} what type of variable is this?\", \"Given the code, {variable = 1.1} what type of variable is this?\", \"Given the code, {variable = 'Hello'} what type of variable is this?\"]\n",
    "answers=[\"print\", \"input\", \"def\", \"print('hello' + a)\", \"import\", \"variables\", \"integer\", \"float\", \"string\"]\n",
    "\n",
    "correct = 0\n",
    "questions = len(prompts)\n",
    "\n",
    "# corrects answers, awards a point if correct\n",
    "def gradeResponse(response, answer):\n",
    "    global correct\n",
    "    # convert to lowercase so ppl don't yell at me for scoring them as wrong when they went \"prinT\"\n",
    "    if response.lower() == answer:\n",
    "        print(f\"{response} is correct!\\nGood job :D\")\n",
    "        correct += 1\n",
    "    else:\n",
    "        print(f\"{response} is incorrect!\\nBetter luck next time :(\")\n",
    "\n",
    "# ask user if they want to proceed, exit if no\n",
    "print(f\"Hello {getpass.getuser()}!\")\n",
    "print(f\"You will be asked {str(questions)} questions.\")\n",
    "rsp = question_with_response(\"Are you ready to take a quiz? [Y/n]\")\n",
    "if rsp.lower() == \"y\":\n",
    "    print(\"Lets get started!\")\n",
    "else:\n",
    "    print(\"Bye :(\")\n",
    "    exit()\n",
    "\n",
    "# cycle through all questions, score the questions\n",
    "for i in range(0, questions):\n",
    "    rsp = question_with_response(prompts[i])\n",
    "    gradeResponse(rsp, answers[i])\n",
    "\n",
    "# calculate percentage\n",
    "percentage=(correct/questions)*100\n",
    "percentage=round(percentage, 2)\n",
    "\n",
    "# report score\n",
    "print(f\"You got a total of {correct} out of {questions} ({percentage}%)!\")"
   ]
  },
  {
   "cell_type": "markdown",
   "metadata": {},
   "source": [
    "## Code explanation\n",
    "I import the getpass library that way I can personalize it and say the user name.\n",
    "The function `question_with_response` asks the question and returns the user answer, named `msg`.\n",
    "For every question in the list `questions`, I pass the variable `msg` into `rsp` and send it to the `gradeResponse` function, along with the corresponding answer.\n",
    "`gradeResponse` will then check if the answer is correct and award a point to the user if it is.\n",
    "At the end of the quiz, it will display how many out of the total questions were correct."
   ]
  }
 ],
 "metadata": {
  "kernelspec": {
   "display_name": "Python 3.9.12 ('base')",
   "language": "python",
   "name": "python3"
  },
  "language_info": {
   "codemirror_mode": {
    "name": "ipython",
    "version": 3
   },
   "file_extension": ".py",
   "mimetype": "text/x-python",
   "name": "python",
   "nbconvert_exporter": "python",
   "pygments_lexer": "ipython3",
   "version": "3.9.12"
  },
  "varInspector": {
   "cols": {
    "lenName": 16,
    "lenType": 16,
    "lenVar": 40
   },
   "kernels_config": {
    "python": {
     "delete_cmd_postfix": "",
     "delete_cmd_prefix": "del ",
     "library": "var_list.py",
     "varRefreshCmd": "print(var_dic_list())"
    },
    "r": {
     "delete_cmd_postfix": ") ",
     "delete_cmd_prefix": "rm(",
     "library": "var_list.r",
     "varRefreshCmd": "cat(var_dic_list()) "
    }
   },
   "types_to_exclude": [
    "module",
    "function",
    "builtin_function_or_method",
    "instance",
    "_Feature"
   ],
   "window_display": false
  },
  "vscode": {
   "interpreter": {
    "hash": "40d3a090f54c6569ab1632332b64b2c03c39dcf918b08424e98f38b5ae0af88f"
   }
  }
 },
 "nbformat": 4,
 "nbformat_minor": 4
}
