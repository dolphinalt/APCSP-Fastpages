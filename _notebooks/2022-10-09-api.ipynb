{
 "cells": [
  {
   "cell_type": "markdown",
   "metadata": {},
   "source": [
    "# Python API example\n",
    "> Ethan Zhao\n",
    "\n",
    "- toc: true \n",
    "- badges: true\n",
    "- comments: true\n",
    "- categories: [jupyter]"
   ]
  },
  {
   "cell_type": "markdown",
   "metadata": {},
   "source": [
    "# API thing"
   ]
  },
  {
   "cell_type": "code",
   "execution_count": 31,
   "metadata": {},
   "outputs": [
    {
     "name": "stdout",
     "output_type": "stream",
     "text": [
      "Address                              Temperature     Date time\n",
      "Washington DC USA is projected to be 63.1 degrees on 10/13/2022 degrees.\n",
      "Washington DC USA is projected to be 57.2 degrees on 10/14/2022 degrees.\n",
      "Washington DC USA is projected to be 62.5 degrees on 10/15/2022 degrees.\n",
      "Washington DC USA is projected to be 62.2 degrees on 10/16/2022 degrees.\n",
      "Washington DC USA is projected to be 57.1 degrees on 10/17/2022 degrees.\n",
      "Washington DC USA is projected to be 47.0 degrees on 10/18/2022 degrees.\n",
      "Washington DC USA is projected to be 44.9 degrees on 10/19/2022 degrees.\n",
      "Washington DC USA is projected to be 49.2 degrees on 10/20/2022 degrees.\n",
      "Washington DC USA is projected to be 56.6 degrees on 10/21/2022 degrees.\n",
      "Washington DC USA is projected to be 53.3 degrees on 10/22/2022 degrees.\n",
      "Washington DC USA is projected to be 47.3 degrees on 10/23/2022 degrees.\n",
      "Washington DC USA is projected to be 51.6 degrees on 10/24/2022 degrees.\n",
      "Washington DC USA is projected to be 47.8 degrees on 10/25/2022 degrees.\n",
      "Washington DC USA is projected to be 48.4 degrees on 10/26/2022 degrees.\n",
      "Washington DC USA is projected to be 50.4 degrees on 10/27/2022 degrees.\n",
      "Washington DC USA is projected to be 52.7 degrees on 10/28/2022 degrees.\n"
     ]
    }
   ],
   "source": [
    "import requests\n",
    "import csv\n",
    "\n",
    "testing = 1\n",
    "\n",
    "if testing == 0:\n",
    "\turl = \"https://visual-crossing-weather.p.rapidapi.com/forecast\"\n",
    "\n",
    "\tquerystring = {\"aggregateHours\":\"24\",\"location\":\"Washington,DC,USA\",\"contentType\":\"csv\",\"unitGroup\":\"us\",\"shortColumnNames\":\"0\"}\n",
    "\n",
    "\theaders = {\n",
    "\t\t\"X-RapidAPI-Key\": \"eb0bbc6cc0msh085b254f1761bc2p154cf4jsne59a8dbdbaa0\",\n",
    "\t\t\"X-RapidAPI-Host\": \"visual-crossing-weather.p.rapidapi.com\"\n",
    "\t}\n",
    "\n",
    "\tresponse = requests.request(\"GET\", url, headers=headers, params=querystring)\n",
    "\n",
    "\tf = open(\"./assets/weather.csv\", \"a\")\n",
    "\tf.write(\"\")\n",
    "\tf.write(response.text)\n",
    "\tf.close()\n",
    "\n",
    "with open('./assets/weather.csv') as csv_file:\n",
    "\tcsv_reader = csv.reader(csv_file, delimiter=',')\n",
    "\tline_count = 0\n",
    "\tfor row in csv_reader:\n",
    "\t\tif line_count == 0:\n",
    "\t\t\tprint(f'{row[0]}                              {row[9]}     {row[1]}')\n",
    "\t\t\tline_count += 1\n",
    "\t\telse:\n",
    "\t\t\tlocation = row[0].replace(\",\", \" \" )\n",
    "\t\t\tprint(f'{location} is projected to be {row[9]} degrees on {row[1]} degrees.')\n",
    "\t\t\tline_count += 1\n"
   ]
  },
  {
   "cell_type": "markdown",
   "metadata": {},
   "source": [
    "## Code explanation\n",
    "I import the getpass library that way I can personalize it and say the user name.\n",
    "The function `question_with_response` asks the question and returns the user answer, named `msg`.\n",
    "For every question in the list `questions`, I pass the variable `msg` into `rsp` and send it to the `gradeResponse` function, along with the corresponding answer.\n",
    "`gradeResponse` will then check if the answer is correct and award a point to the user if it is.\n",
    "At the end of the quiz, it will display how many out of the total questions were correct."
   ]
  }
 ],
 "metadata": {
  "kernelspec": {
   "display_name": "Python 3.9.12 ('base')",
   "language": "python",
   "name": "python3"
  },
  "language_info": {
   "codemirror_mode": {
    "name": "ipython",
    "version": 3
   },
   "file_extension": ".py",
   "mimetype": "text/x-python",
   "name": "python",
   "nbconvert_exporter": "python",
   "pygments_lexer": "ipython3",
   "version": "3.9.12"
  },
  "varInspector": {
   "cols": {
    "lenName": 16,
    "lenType": 16,
    "lenVar": 40
   },
   "kernels_config": {
    "python": {
     "delete_cmd_postfix": "",
     "delete_cmd_prefix": "del ",
     "library": "var_list.py",
     "varRefreshCmd": "print(var_dic_list())"
    },
    "r": {
     "delete_cmd_postfix": ") ",
     "delete_cmd_prefix": "rm(",
     "library": "var_list.r",
     "varRefreshCmd": "cat(var_dic_list()) "
    }
   },
   "types_to_exclude": [
    "module",
    "function",
    "builtin_function_or_method",
    "instance",
    "_Feature"
   ],
   "window_display": false
  },
  "vscode": {
   "interpreter": {
    "hash": "40d3a090f54c6569ab1632332b64b2c03c39dcf918b08424e98f38b5ae0af88f"
   }
  }
 },
 "nbformat": 4,
 "nbformat_minor": 4
}
