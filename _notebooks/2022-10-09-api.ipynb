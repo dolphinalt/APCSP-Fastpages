{
 "cells": [
  {
   "cell_type": "markdown",
   "metadata": {},
   "source": [
    "# Python Quiz for APCSP\n",
    "> Ethan Zhao\n",
    "\n",
    "- toc: true \n",
    "- badges: true\n",
    "- comments: true\n",
    "- categories: [jupyter]"
   ]
  },
  {
   "cell_type": "markdown",
   "metadata": {},
   "source": [
    "# API thing"
   ]
  },
  {
   "cell_type": "code",
   "execution_count": 2,
   "metadata": {},
   "outputs": [
    {
     "name": "stdout",
     "output_type": "stream",
     "text": [
      "Address,Date time,Latitude,Longitude,Resolved Address,Name,Wind Direction,Minimum Temperature,Maximum Temperature,Temperature,Wind Speed,Cloud Cover,Heat Index,Chance Precipitation (%),Precipitation,Sea Level Pressure,Snow Depth,Snow,Relative Humidity,Wind Gust,Wind Chill,Conditions\n",
      "\"Washington,DC,USA\",\"10/12/2022\",38.8904,-77.032,\"Washington, DC, United States\",\"Washington,DC,USA\",140.9,58.9,64.1,60.8,9.7,68.1,,0.0,0.0,1017.3,0.0,0.0,82.3,26.6,,\"Partially cloudy\"\n",
      "\"Washington,DC,USA\",\"10/13/2022\",38.8904,-77.032,\"Washington, DC, United States\",\"Washington,DC,USA\",164.1,57.8,66.3,61.3,10.6,77.6,,90.5,0.0,1011.1,0.0,0.0,93.0,29.1,,\"Rain, Overcast\"\n",
      "\"Washington,DC,USA\",\"10/14/2022\",38.8904,-77.032,\"Washington, DC, United States\",\"Washington,DC,USA\",259.6,52.2,65.2,57.9,5.5,17.0,,9.5,0.0,1012.3,0.0,0.0,47.9,27.7,,\"Clear\"\n",
      "\"Washington,DC,USA\",\"10/15/2022\",38.8904,-77.032,\"Washington, DC, United States\",\"Washington,DC,USA\",183.5,49.0,75.6,61.5,8.1,15.8,,4.8,0.0,1017.0,0.0,0.0,43.5,34.9,47.0,\"Clear\"\n",
      "\"Washington,DC,USA\",\"10/16/2022\",38.8904,-77.032,\"Washington, DC, United States\",\"Washington,DC,USA\",221.8,58.6,71.0,63.1,3.6,70.9,,38.1,0.07,1015.8,0.0,0.0,71.7,15.2,,\"Partially cloudy\"\n",
      "\"Washington,DC,USA\",\"10/17/2022\",38.8904,-77.032,\"Washington, DC, United States\",\"Washington,DC,USA\",311.2,49.2,62.9,57.5,8.0,70.9,,23.8,0.0,1011.7,0.0,0.0,45.6,20.1,45.6,\"Partially cloudy\"\n",
      "\"Washington,DC,USA\",\"10/18/2022\",38.8904,-77.032,\"Washington, DC, United States\",\"Washington,DC,USA\",306.3,40.9,50.8,45.9,8.7,19.7,,9.5,0.0,1013.4,0.0,0.0,55.8,21.7,35.7,\"Clear\"\n",
      "\"Washington,DC,USA\",\"10/19/2022\",38.8904,-77.032,\"Washington, DC, United States\",\"Washington,DC,USA\",305.5,37.1,53.3,44.8,6.1,2.6,,9.5,0.0,1018.6,0.0,0.0,49.2,21.9,32.2,\"Clear\"\n",
      "\"Washington,DC,USA\",\"10/20/2022\",38.8904,-77.032,\"Washington, DC, United States\",\"Washington,DC,USA\",194.1,40.0,61.1,50.3,7.7,30.7,,14.3,0.0,1015.7,0.0,0.0,42.5,31.8,36.0,\"Partially cloudy\"\n",
      "\"Washington,DC,USA\",\"10/21/2022\",38.8904,-77.032,\"Washington, DC, United States\",\"Washington,DC,USA\",284.1,49.0,61.1,54.1,3.9,74.9,,19.0,0.02,1013.0,0.0,0.0,57.3,30.0,48.9,\"Partially cloudy\"\n",
      "\"Washington,DC,USA\",\"10/22/2022\",38.8904,-77.032,\"Washington, DC, United States\",\"Washington,DC,USA\",167.7,45.2,63.1,53.4,3.2,21.9,,14.3,0.0,1018.8,0.0,0.0,50.9,14.9,43.9,\"Clear\"\n",
      "\"Washington,DC,USA\",\"10/23/2022\",38.8904,-77.032,\"Washington, DC, United States\",\"Washington,DC,USA\",119.3,49.5,64.5,56.9,5.7,69.1,,9.5,0.0,1019.7,0.0,0.0,78.5,26.2,48.7,\"Partially cloudy\"\n",
      "\"Washington,DC,USA\",\"10/24/2022\",38.8904,-77.032,\"Washington, DC, United States\",\"Washington,DC,USA\",171.4,58.6,73.8,65.0,9.9,81.4,,23.8,0.02,1015.0,0.0,0.0,71.3,30.2,,\"Overcast\"\n",
      "\"Washington,DC,USA\",\"10/25/2022\",38.8904,-77.032,\"Washington, DC, United States\",\"Washington,DC,USA\",163.9,57.1,73.1,64.1,5.3,10.9,,14.3,0.0,1014.5,0.0,0.0,50.6,24.6,,\"Clear\"\n",
      "\"Washington,DC,USA\",\"10/26/2022\",38.8904,-77.032,\"Washington, DC, United States\",\"Washington,DC,USA\",153.8,58.4,69.2,63.9,5.4,100.0,,28.6,0.02,1011.0,0.0,0.0,85.9,21.5,,\"Overcast\"\n",
      "\"Washington,DC,USA\",\"10/27/2022\",38.8904,-77.032,\"Washington, DC, United States\",\"Washington,DC,USA\",185.9,67.4,67.5,67.4,5.4,100.0,,14.3,0.02,1009.3,0.0,0.0,98.6,21.5,,\"Overcast\"\n",
      "\n"
     ]
    }
   ],
   "source": [
    "import requests\n",
    "\n",
    "url = \"https://visual-crossing-weather.p.rapidapi.com/forecast\"\n",
    "\n",
    "querystring = {\"aggregateHours\":\"24\",\"location\":\"Washington,DC,USA\",\"contentType\":\"csv\",\"unitGroup\":\"us\",\"shortColumnNames\":\"0\"}\n",
    "\n",
    "headers = {\n",
    "\t\"X-RapidAPI-Key\": \"eb0bbc6cc0msh085b254f1761bc2p154cf4jsne59a8dbdbaa0\",\n",
    "\t\"X-RapidAPI-Host\": \"visual-crossing-weather.p.rapidapi.com\"\n",
    "}\n",
    "\n",
    "response = requests.request(\"GET\", url, headers=headers, params=querystring)\n",
    "\n",
    "print(response.text)"
   ]
  },
  {
   "cell_type": "markdown",
   "metadata": {},
   "source": [
    "## Code explanation\n",
    "I import the getpass library that way I can personalize it and say the user name.\n",
    "The function `question_with_response` asks the question and returns the user answer, named `msg`.\n",
    "For every question in the list `questions`, I pass the variable `msg` into `rsp` and send it to the `gradeResponse` function, along with the corresponding answer.\n",
    "`gradeResponse` will then check if the answer is correct and award a point to the user if it is.\n",
    "At the end of the quiz, it will display how many out of the total questions were correct."
   ]
  }
 ],
 "metadata": {
  "kernelspec": {
   "display_name": "Python 3.9.12 ('base')",
   "language": "python",
   "name": "python3"
  },
  "language_info": {
   "codemirror_mode": {
    "name": "ipython",
    "version": 3
   },
   "file_extension": ".py",
   "mimetype": "text/x-python",
   "name": "python",
   "nbconvert_exporter": "python",
   "pygments_lexer": "ipython3",
   "version": "3.9.12"
  },
  "varInspector": {
   "cols": {
    "lenName": 16,
    "lenType": 16,
    "lenVar": 40
   },
   "kernels_config": {
    "python": {
     "delete_cmd_postfix": "",
     "delete_cmd_prefix": "del ",
     "library": "var_list.py",
     "varRefreshCmd": "print(var_dic_list())"
    },
    "r": {
     "delete_cmd_postfix": ") ",
     "delete_cmd_prefix": "rm(",
     "library": "var_list.r",
     "varRefreshCmd": "cat(var_dic_list()) "
    }
   },
   "types_to_exclude": [
    "module",
    "function",
    "builtin_function_or_method",
    "instance",
    "_Feature"
   ],
   "window_display": false
  },
  "vscode": {
   "interpreter": {
    "hash": "40d3a090f54c6569ab1632332b64b2c03c39dcf918b08424e98f38b5ae0af88f"
   }
  }
 },
 "nbformat": 4,
 "nbformat_minor": 4
}
