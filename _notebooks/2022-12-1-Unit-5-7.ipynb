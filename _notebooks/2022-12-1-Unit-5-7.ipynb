{
 "cells": [
  {
   "cell_type": "markdown",
   "metadata": {},
   "source": [
    "# Homework \n",
    "\n",
    "- toc: true\n",
    "- badges: true\n",
    "- comments: true\n",
    "- categories: [Week 13]"
   ]
  },
  {
   "cell_type": "markdown",
   "metadata": {},
   "source": [
    "## Homework/Hacks\n",
    "\n",
    " our homework we have decided for a decimal number to binary converter. You must use conditional statements within your code and have a input box for where the decimal number will go. This will give you a 2.7 out of 3 and you may add anything else to the code to get above a 2.7.\n",
    "\n"
   ]
  },
  {
   "cell_type": "markdown",
   "metadata": {},
   "source": [
    "Below is an example of decimal number to binary converter which you can use as a starting template."
   ]
  },
  {
   "cell_type": "code",
   "execution_count": 4,
   "metadata": {},
   "outputs": [
    {
     "name": "stdout",
     "output_type": "stream",
     "text": [
      "96 converted to binary is: 1100000\n"
     ]
    },
    {
     "ename": "",
     "evalue": "",
     "output_type": "error",
     "traceback": [
      "The Kernel crashed while executing code in the the current cell or a previous cell. Please review the code in the cell(s) to identify a possible cause of the failure. Click <a href='https://aka.ms/vscodeJupyterKernelCrash'>here</a> for more info. View Jupyter <a href='command:jupyter.viewOutput'>log</a> for further details."
     ]
    }
   ],
   "source": [
    "def DecimalToBinary(num):\n",
    "    try: num=int(num)\n",
    "    except: return \"\"\"\n",
    "\n",
    "    +=================================+\n",
    "    | [ERROR] input must be a number! |\n",
    "    +=================================+\n",
    "    \"\"\"\n",
    "    strs = \"\"\n",
    "    while num:\n",
    "        # if (num & 1) = 1\n",
    "        if (num & 1):\n",
    "            strs += \"1\"\n",
    "        # if (num & 1) = 0\n",
    "        else:\n",
    "            strs += \"0\"\n",
    "        # right shift by 1\n",
    "        num >>= 1\n",
    "    return strs[::-1]\n",
    "\n",
    "def operands(operation, num1, num2):\n",
    "    bin1=DecimalToBinary(num1)\n",
    "    bin2=DecimalToBinary(num2)\n",
    "    if operation == \"A\":\n",
    "        result = bin1|bin2\n",
    "    elif operation == \"B\":\n",
    "        result_or = bin1|bin2\n",
    "        if result_or == 1:\n",
    "            result = 0\n",
    "        elif result_or == 0:\n",
    "            result = 1\n",
    "    elif operation == \"C\":\n",
    "        result = bin1&bin2\n",
    "    elif operation == \"D\":\n",
    "        result_and = bin1&bin2\n",
    "        if result_and == 1:\n",
    "            result = 0\n",
    "        elif result_and == 0:\n",
    "            result = 1\n",
    "    elif operation == \"E\":\n",
    "        result = bin1^bin2\n",
    "    elif operation == \"F\":\n",
    "        result_xor = bin1^bin2\n",
    "        if result_xor == 0:\n",
    "            result = 1\n",
    "        elif result_xor == 1:\n",
    "            result = 0\n",
    "    elif operation == \"G\":\n",
    "        result = not bin1\n",
    "    return result\n",
    "\n",
    "\n",
    "# Driver Code\n",
    "do = input(\"\"\"\n",
    "+=================================+\n",
    "| [INFO] Select one:              |\n",
    "| [A] Convert binary to decimal   |\n",
    "| [B] Binary operations           |\n",
    "+=================================+\n",
    "    \"\"\")\n",
    "if do.upper() == \"A\":\n",
    "    num = input(\"What number do you want to convert to binary?\")\n",
    "    binary = DecimalToBinary(num)\n",
    "    print(f\"{num} converted to binary is: {binary}\")\n",
    "    exit()\n",
    "elif do.upper() == \"B\":\n",
    "    operation = input(\"\"\"\n",
    "    +=================================+\n",
    "    | [INFO] Select one:              |\n",
    "    | [A] OR                          |\n",
    "    | [B] NOR                         |\n",
    "    | [C] AND                         |\n",
    "    | [D] NAND                        |\n",
    "    | [E] XOR                         |\n",
    "    | [F] XNOR                        |\n",
    "    | [G] NOT                         |\n",
    "    +=================================+\n",
    "    \"\"\")\n",
    "    while operation.upper() != \"A\" or operation.upper() != \"B\" or operation.upper != \"C:\" or operation.upper != \"D:\" or operation.upper != \"E:\" or operation.upper != \"F:\" or operation.upper != \"G:\":\n",
    "        operation = input(\"\"\"\n",
    "    +=================================+\n",
    "    | [INFO] Select one:              |\n",
    "    | [A] OR                          |\n",
    "    | [B] NOR                         |\n",
    "    | [C] AND                         |\n",
    "    | [D] NAND                        |\n",
    "    | [E] XOR                         |\n",
    "    | [F] XNOR                        |\n",
    "    | [G] NOT                         |\n",
    "    +=================================+\n",
    "        \"\"\")\n",
    "    if operation == \"A\":\n",
    "        num1 = input(\"Input number 1:\")\n",
    "        num2 = input(\"Input number 2:\")\n",
    "        result = operands(operation, num1, num2)\n",
    "    elif operation == \"B\":\n",
    "        num1 = input(\"Input number 1:\")\n",
    "        num2 = input(\"Input number 2:\")\n",
    "        result = operands(operation, num1, num2)\n",
    "    elif operation == \"C\":\n",
    "        num1 = input(\"Input number 1:\")\n",
    "        num2 = input(\"Input number 2:\")\n",
    "        result = operands(operation, num1, num2)\n",
    "    elif operation == \"D\":\n",
    "        num1 = input(\"Input number 1:\")\n",
    "        num2 = input(\"Input number 2:\")\n",
    "        result = operands(operation, num1, num2)\n",
    "    elif operation == \"E\":\n",
    "        num1 = input(\"Input number 1:\")\n",
    "        num2 = input(\"Input number 2:\")\n",
    "        result = operands(operation, num1, num2)\n",
    "    elif operation == \"F\":\n",
    "        num1 = input(\"Input number 1:\")\n",
    "        num2 = input(\"Input number 2:\")\n",
    "        result = operands(operation, num1, num2)\n",
    "    elif operation == \"G\":\n",
    "        num1 = input(\"Input number 1:\")\n",
    "        result = operands(operation, num1, \"\")\n",
    "    exit()"
   ]
  },
  {
   "cell_type": "code",
   "execution_count": null,
   "metadata": {},
   "outputs": [],
   "source": []
  }
 ],
 "metadata": {
  "kernelspec": {
   "display_name": "Python 3.9.6 64-bit",
   "language": "python",
   "name": "python3"
  },
  "language_info": {
   "codemirror_mode": {
    "name": "ipython",
    "version": 3
   },
   "file_extension": ".py",
   "mimetype": "text/x-python",
   "name": "python",
   "nbconvert_exporter": "python",
   "pygments_lexer": "ipython3",
   "version": "3.9.6"
  },
  "orig_nbformat": 4,
  "vscode": {
   "interpreter": {
    "hash": "31f2aee4e71d21fbe5cf8b01ff0e069b9275f58929596ceb00d14d90e3e16cd6"
   }
  }
 },
 "nbformat": 4,
 "nbformat_minor": 2
}
