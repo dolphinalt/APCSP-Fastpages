{
 "cells": [
  {
   "attachments": {},
   "cell_type": "markdown",
   "metadata": {},
   "source": [
    "# P3-M 4/21 Binary Overview\n",
    "> A series of binary lessons focusssed on math and conversions.\n",
    "- toc: true\n",
    "- badges: false\n",
    "- comments: true\n",
    "- author: Colin Mills, Aiden Huynh, Toby Leeder, Dash Penning, Ekam Kaire, Ishi Singh, Azeem Khan, Nathan Capule\n",
    "- categories: [student]\n",
    "- type: ap\n",
    "- week: 30"
   ]
  },
  {
   "attachments": {},
   "cell_type": "markdown",
   "metadata": {},
   "source": [
    "## How to contact us\n",
    "Join the \"coding\" channel on slack! That is the only place where we will be answering questions or sending announcements about lessons. If you have a question please contact us there.\n",
    "#### How to join\n",
    "* Click on \"add channels\" below the list of channels\n",
    "* Click on \"browse channels\"\n",
    "* Search for \"coding\"\n",
    "* Click the green \"Join\" button on the right\n",
    "\n",
    "## Learning Objectives\n",
    "![CollegeBoard Requirements for Binary](https://user-images.githubusercontent.com/111464932/229885445-65ef56d2-f3d4-43da-aa62-8683e8c0a08b.png)\n",
    "\n",
    "### DAT-1.A: Representing Data with Bits\n",
    "\n",
    "#### Basic Information\n",
    "* Bit is short for binary digit, and represents a value of either 0 or 1.\n",
    "    - A byte is 8 bits.\n",
    "* Sequences of bits are used to represent different things.\n",
    "    - Representing data with sequences of bits is called Abstraction.\n",
    "\n",
    "#### Practice Questions:\n",
    "1. How many bits are in 3 bytes?\n",
    "\n",
    "24 bits\n",
    "\n",
    "2. What digital information can be represented by bits? \n",
    "\n",
    "Numbers, Text, Colors, Images, etc.\n",
    "\n",
    "3. Are bits an analog or digital form of storing data? What is the difference between the two?\n",
    "\n",
    "Bits are a digital form of storing data, as the bits are virtualized. Analog forms of storing data are physical, such as a CD or a DVD.\n",
    "\n",
    "#### Examples\n",
    "* Boolean variables (true or false) are the easiest way to visualize binary.\n",
    "    - 0 = False\n",
    "    - 1 = True\n"
   ]
  },
  {
   "cell_type": "code",
   "execution_count": 1,
   "metadata": {},
   "outputs": [
    {
     "name": "stdout",
     "output_type": "stream",
     "text": [
      "binary is awesome\n",
      "binary is cool\n",
      "binary is awesome\n",
      "binary is awesome\n",
      "binary is awesome\n",
      "binary is cool\n",
      "binary is cool\n",
      "binary is awesome\n",
      "binary is cool\n",
      "binary is cool\n"
     ]
    }
   ],
   "source": [
    "import random\n",
    "\n",
    "def example(runs):\n",
    "    # Repeat code for the amount of runs given\n",
    "    while runs > 0:\n",
    "        # Assigns variable boolean to either True or False based on random binary number 0 or 1.\n",
    "        boolean = False if random.randint(0, 1) == 0 else True \n",
    "\n",
    "        # If the number was 1 (True), it prints \"awesome.\"\n",
    "        if boolean:\n",
    "            print(\"binary is awesome\")\n",
    "            \n",
    "        # If the number was 2 (False), it prints \"cool.\"\n",
    "        else:\n",
    "            print(\"binary is cool\")\n",
    "            \n",
    "        runs -= 1\n",
    "     \n",
    "# Change the parameter to how many times to run the function.   \n",
    "example(10)"
   ]
  },
  {
   "attachments": {},
   "cell_type": "markdown",
   "metadata": {},
   "source": [
    "### DAT-1.B: The Consequences of Using Bits to Represent Data\n",
    "\n",
    "#### Basic Information\n",
    "* Integers are represented by a fixed number of bits, this limits the range of integer values. This limitation can result in ________ or other errors.\n",
    "* Other programming languages allow for abstraction only limited by the computers memory.\n",
    "* Fixed number of bits are used to represent real numbers/limits\n",
    "\n",
    "#### Practice Questions:\n",
    "1. What is the largest number can be represented by 5 bits?\n",
    "\n",
    "1+2+4+8+16 = 31 (2^5 - 1)\n",
    "\n",
    "2. One programing language can only use 16 bits to represent non-negative numbers, while a second language uses 56 bits to represent numbers. How many times as many unique numbers can be represented by the second language?\n",
    "\n",
    "2^56 / 2^16 = 2^40\n",
    "\n",
    "3. 5 bits are used to represent both positive and negative numbers, what is the largest number that can be represented by these bits? (*hint: different than question 1*)\n",
    "\n",
    "15, because when you represent negative numbers, the first bit represents the sign, meaning there are 4 usable bits. 2^4 - 1 = 15.\n",
    "\n",
    "#### Examples"
   ]
  },
  {
   "cell_type": "code",
   "execution_count": 3,
   "metadata": {},
   "outputs": [
    {
     "name": "stdout",
     "output_type": "stream",
     "text": [
      "5^2 = 25.0\n"
     ]
    }
   ],
   "source": [
    "import math\n",
    "\n",
    "def exponent(base, power):\n",
    "    # Print the operation performed, turning the parameters into strings to properly concatenate with the symbols \"^\" and \"=\".\n",
    "    print(str(base) + \"^\" + str(power) + \" = \" + str(math.pow(base, power)))\n",
    "\n",
    "# How can function become a problem? (Hint: what happens if you set both base and power equal to high numbers?)\n",
    "exponent(5, 2)\n"
   ]
  },
  {
   "attachments": {},
   "cell_type": "markdown",
   "metadata": {},
   "source": [
    "### DAT-1.C: Binary Math\n",
    "\n",
    "#### Basic Information\n",
    "* Binary is Base 2, meaning each digit can only represent values of 0 and 1.\n",
    "* Decimal is Base 10, meaning eacht digit can represent values from 0 to 9.\n",
    "* Conversion between sequences of binary to decimal depend on how many binary numbers there are, their values and their positions.\n",
    "\n",
    "#### Practice Questions:\n",
    "1. What values can each digit of a Base 5 system represent?\n",
    "\n",
    "0, 1, 2, 3, 4. This is because the Base word means each base (or integer) can hold N values, in this case, 5.\n",
    "\n",
    "2. What base is Hexadecimal? What range of values can each digit of Hexadecimal represent?\n",
    "\n",
    "Hexadecimal is base 16. Each digit can represent values from 0 to 9, and A to F.\n",
    "\n",
    "3. When using a base above 10, letters can be used to represent numbers past 9. These letters start from A and continue onwards. For example, the decimal number 10 is represented by the letter A in Hexadecimal. What letter would be used to represent the Base 10 number 23 in a Base 30 system? What about in a Base 50 system?\n",
    "\n",
    "N would represent the Base 10 number 10 in a Base 30 system. In a Base 50 system, the letter would still be M, as the ways that you would represent numbers past 9 are the same in all bases.\n",
    "\n",
    "\n",
    "#### Examples\n",
    "* Using 6 bits, we can represent 64 numbers, from 0 to 63, as 2^6 = 64.\n",
    "* The numbers in a sequence of binary go from right to left, increasing by powers of two from 0 to the total amount of bits. The whole number represented is the sum of these bits. For example:\n",
    "    1. 111111\n",
    "    2. 2^5 + 2^4 + 2^3 + 2^2 + 2^1 + 2^0\n",
    "    3. 32 + 16 + 8 + 4 + 2 + 1\n",
    "    4. 63\n",
    "* **Fill in the blanks** (convert to decimal) \n",
    "    1. 001010 = 10\n",
    "    2. 11100010 = 226\n",
    "    3. 10 = 2\n",
    "\n",
    "* **Fill in the blanks** (convert to binary) \n",
    "    1. 12 = 1100\n",
    "    2. 35 = 100011\n",
    "    3. 256 = 11111111"
   ]
  },
  {
   "attachments": {},
   "cell_type": "markdown",
   "metadata": {},
   "source": [
    "## Hacks & Grading (Due SUNDAY NIGHT 4/23)\n",
    "* Complete all of the popcorn hacks (Fill in the blanks + run code cells and interact + Answer ALL questions) [0.3 or nothing]\n",
    "* Create a program to conduct basic mathematical operations with binary sequences (addition, subtraction, multiplication, division) [0.6 or nothing]\n",
    "    - For bonus, program must be able to conduct mathematical operations on binary sequences of varying bits (for example: 101 + 1001 would return decimal 14.) [0.1 or nothing]"
   ]
  },
  {
   "cell_type": "code",
   "execution_count": 28,
   "metadata": {},
   "outputs": [
    {
     "name": "stdout",
     "output_type": "stream",
     "text": [
      "11^10=1001 (9)\n"
     ]
    }
   ],
   "source": [
    "# Hacks: Binary calculator\n",
    "\n",
    "# binary to decimal function\n",
    "def binaryToDecimal(binary):\n",
    "    # Initialize variables\n",
    "    decimal = 0\n",
    "    power = 0\n",
    "    \n",
    "    # Loop through the binary string\n",
    "    for i in range(len(str(binary)) - 1, -1, -1):\n",
    "        # Add the value of the binary digit to the decimal variable\n",
    "        decimal += int(str(binary)[i]) * math.pow(2, power)\n",
    "        # Increment the power variable\n",
    "        power += 1\n",
    "    \n",
    "    # Return the decimal value\n",
    "    return int(decimal)\n",
    "\n",
    "# decimal to binary function\n",
    "def decimalToBinary(decimal):\n",
    "    return str(bin(decimal))[2:]\n",
    "\n",
    "def add(int1, int2):\n",
    "    return int1 + int2\n",
    "\n",
    "def subtract(int1, int2):\n",
    "    return int1 - int2\n",
    "\n",
    "def multiply(int1, int2):\n",
    "    return int1 * int2\n",
    "\n",
    "def divide(int1, int2):\n",
    "    return int1 / int2\n",
    "\n",
    "def power(int1, int2):\n",
    "    return int1 ** int2\n",
    "\n",
    "# Driver\n",
    "def main():\n",
    "    n1=input(\"Input number 1: \")\n",
    "    n2=input(\"Input number 2: \")\n",
    "    operation=input(\"Input operation: \")\n",
    "\n",
    "    int1=binaryToDecimal(n1)\n",
    "    int2=binaryToDecimal(n2)\n",
    "    \n",
    "    if operation == \"+\": \n",
    "        print(str(n1) + operation + str(n2) + \"=\" + decimalToBinary(add(int1, int2)) + \" (\" + str(add(int1, int2)) + \")\")\n",
    "    elif operation == \"-\":\n",
    "        print(str(n1) + operation + str(n2) + \"=\" + decimalToBinary(subtract(int1, int2)) + \" (\" + str(subtract(int1, int2)) + \")\")\n",
    "    elif operation == \"*\":\n",
    "        print(str(n1) + operation + str(n2) + \"=\" + decimalToBinary(multiply(int1, int2)) + \" (\" + str(multiply(int1, int2)) + \")\")\n",
    "    elif operation == \"/\":\n",
    "        print(str(n1) + operation + str(n2) + \"=\" + decimalToBinary(divide(int1, int2)) + \" (\" + str(divide(int1, int2)) + \")\")\n",
    "    elif operation == \"^\":\n",
    "        print(str(n1) + operation + str(n2) + \"=\" + decimalToBinary(power(int1, int2)) + \" (\" + str(power(int1, int2)) + \")\")\n",
    "    else:\n",
    "        print(\"Invalid operation\")\n",
    "        \n",
    "\n",
    "main()\n"
   ]
  }
 ],
 "metadata": {
  "kernelspec": {
   "display_name": "Python 3",
   "language": "python",
   "name": "python3"
  },
  "language_info": {
   "codemirror_mode": {
    "name": "ipython",
    "version": 3
   },
   "file_extension": ".py",
   "mimetype": "text/x-python",
   "name": "python",
   "nbconvert_exporter": "python",
   "pygments_lexer": "ipython3",
   "version": "3.9.6 (default, Aug  5 2022, 15:21:02) \n[Clang 14.0.0 (clang-1400.0.29.102)]"
  },
  "orig_nbformat": 4,
  "vscode": {
   "interpreter": {
    "hash": "31f2aee4e71d21fbe5cf8b01ff0e069b9275f58929596ceb00d14d90e3e16cd6"
   }
  }
 },
 "nbformat": 4,
 "nbformat_minor": 2
}
