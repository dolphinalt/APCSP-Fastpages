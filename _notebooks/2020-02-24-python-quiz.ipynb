{
 "cells": [
  {
   "cell_type": "markdown",
   "metadata": {},
   "source": [
    "# Python Quiz for APCSP\n",
    "> Ethan Zhao\n",
    "\n",
    "- toc: true \n",
    "- badges: true\n",
    "- comments: true\n",
    "- categories: [jupyter]"
   ]
  },
  {
   "cell_type": "markdown",
   "metadata": {},
   "source": [
    "# Python quiz"
   ]
  },
  {
   "cell_type": "code",
   "execution_count": 1,
   "metadata": {},
   "outputs": [
    {
     "name": "stdout",
     "output_type": "stream",
     "text": [
      "Hello root!\n",
      "You will be asked 9 questions.\n",
      "Question: Are you ready to take a quiz? [Y/n]\n",
      "Lets get started!\n",
      "Question: What command would you use to display text into the terminal?\n",
      "print is correct!\n",
      "Good job :D\n",
      "Question: What command would you use to ask the user for information?\n",
      "input is correct!\n",
      "Good job :D\n",
      "Question: What is the keyword used in Python to define a function?\n",
      "def is correct!\n",
      "Good job :D\n",
      "Question: How would you write a print statement to concatenate a string containing variable A with string 'Hello'? (include print() and use '' instead of \"\"\n",
      "print('Hello' + A) is correct!\n",
      "Good job :D\n",
      "Question: How do we add a pre-made library to our code?\n",
      "import is correct!\n",
      "Good job :D\n",
      "Question: We use _______ to store information for later use.\n",
      "variables is correct!\n",
      "Good job :D\n",
      "Question: Given the code, {variable = 1} what type of variable is this?\n",
      "integer is correct!\n",
      "Good job :D\n",
      "Question: Given the code, {variable = 1.1} what type of variable is this?\n",
      "float is correct!\n",
      "Good job :D\n",
      "Question: Given the code, {variable = 'Hello'} what type of variable is this?\n",
      "bool is incorrect!\n",
      "Better luck next time :(\n",
      "You got a total of 8 out of 9!\n"
     ]
    }
   ],
   "source": [
    "import getpass\n",
    "\n",
    "def question_with_response(prompt):\n",
    "    print(\"Question: \" + prompt)\n",
    "    msg = input()\n",
    "    return msg\n",
    "\n",
    "\n",
    "prompts=[\"What command would you use to display text into the terminal?\", \"What command would you use to ask the user for information?\", \"What is the keyword used in Python to define a function?\", \"How would you write a print statement to concatenate a string containing variable A with string 'Hello'? (include print() and use '' instead of \\\"\\\"\", \"How do we add a pre-made library to our code?\", \"We use _______ to store information for later use.\", \"Given the code, {variable = 1} what type of variable is this?\", \"Given the code, {variable = 1.1} what type of variable is this?\", \"Given the code, {variable = 'Hello'} what type of variable is this?\"]\n",
    "answers=[\"print\", \"input\", \"def\", \"print('Hello' + A)\", \"import\", \"variables\", \"integer\", \"float\", \"string\"]\n",
    "\n",
    "correct = 0\n",
    "questions = len(prompts)\n",
    "\n",
    "def gradeResponse(response, answer):\n",
    "    global correct\n",
    "    if response == answer:\n",
    "        print(f\"{response} is correct!\\nGood job :D\")\n",
    "        correct += 1\n",
    "    else:\n",
    "        print(f\"{response} is incorrect!\\nBetter luck next time :(\")\n",
    "\n",
    "print(f\"Hello {getpass.getuser()}!\")\n",
    "print(f\"You will be asked {str(questions)} questions.\")\n",
    "rsp = question_with_response(\"Are you ready to take a quiz? [Y/n]\")\n",
    "if rsp == \"y\" or rsp == \"Y\":\n",
    "    print(\"Lets get started!\")\n",
    "else:\n",
    "    print(\"Bye :(\")\n",
    "    exit()\n",
    "\n",
    "for i in range(0, questions):\n",
    "    rsp = question_with_response(prompts[i])\n",
    "    gradeResponse(rsp, answers[i])\n",
    "\n",
    "print(f\"You got a total of {correct} out of {questions}!\")"
   ]
  }
 ],
 "metadata": {
  "kernelspec": {
   "display_name": "Python 3.9.12 ('base')",
   "language": "python",
   "name": "python3"
  },
  "language_info": {
   "codemirror_mode": {
    "name": "ipython",
    "version": 3
   },
   "file_extension": ".py",
   "mimetype": "text/x-python",
   "name": "python",
   "nbconvert_exporter": "python",
   "pygments_lexer": "ipython3",
   "version": "3.9.12"
  },
  "varInspector": {
   "cols": {
    "lenName": 16,
    "lenType": 16,
    "lenVar": 40
   },
   "kernels_config": {
    "python": {
     "delete_cmd_postfix": "",
     "delete_cmd_prefix": "del ",
     "library": "var_list.py",
     "varRefreshCmd": "print(var_dic_list())"
    },
    "r": {
     "delete_cmd_postfix": ") ",
     "delete_cmd_prefix": "rm(",
     "library": "var_list.r",
     "varRefreshCmd": "cat(var_dic_list()) "
    }
   },
   "types_to_exclude": [
    "module",
    "function",
    "builtin_function_or_method",
    "instance",
    "_Feature"
   ],
   "window_display": false
  },
  "vscode": {
   "interpreter": {
    "hash": "40d3a090f54c6569ab1632332b64b2c03c39dcf918b08424e98f38b5ae0af88f"
   }
  }
 },
 "nbformat": 4,
 "nbformat_minor": 4
}
