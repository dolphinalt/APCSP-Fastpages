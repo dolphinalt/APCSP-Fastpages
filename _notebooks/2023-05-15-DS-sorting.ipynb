{
 "cells": [
  {
   "attachments": {},
   "cell_type": "markdown",
   "metadata": {},
   "source": [
    "# Sorting Algorithms\n",
    "> Working with Data Structures and manipulating data.\n",
    "\n",
    "- toc: true"
   ]
  },
  {
   "attachments": {},
   "cell_type": "markdown",
   "metadata": {},
   "source": [
    "[wget link](https://raw.githubusercontent.com/nighthawkcoders/APCSP/master/_notebooks/2023-05-15-DS-sorting.ipynb)"
   ]
  },
  {
   "cell_type": "code",
   "execution_count": 1,
   "metadata": {},
   "outputs": [
    {
     "name": "stdout",
     "output_type": "stream",
     "text": [
      "Random List\n",
      "[70, 88, 8, 54, 95, 47, 71, 90, 20, 36]\n"
     ]
    }
   ],
   "source": [
    "import random\n",
    "\n",
    "numbers = []\n",
    "for i in range(10):\n",
    "    numbers.append(random.randint(0,100))\n",
    "print(\"Random List\")\n",
    "print(numbers)"
   ]
  },
  {
   "attachments": {},
   "cell_type": "markdown",
   "metadata": {},
   "source": [
    "# Warm Up\n",
    "\n",
    "> Discuss with a partner... \n",
    "What are some strategies you would use to sort this list? (Don't worry about writing code for now)\n",
    "- Finding the lowest value and moving it to the front, then finding the next lowest value and moving it to the second position, and continue until the list is sorted.\n",
    "- Finding the highest value and moving it to the end, then finding the next highest value and moving it to the second to last position, and continue until the list is sorted.\n",
    "- Splitting the deck of cards into small groups, sort the groups, then merge the groups together. Do this until the list is sorted."
   ]
  },
  {
   "attachments": {},
   "cell_type": "markdown",
   "metadata": {},
   "source": [
    "# Explore\n",
    "\n",
    "Get into groups of 3\n",
    "\n",
    "We will be focusing on 4 algorithms today.\n",
    "\n",
    "We will look at the first one together, Bubble Sort\n",
    "\n",
    "What is happening with this sort?\n",
    "\n",
    "In your groups you will each choose to be an expert on a sorting algorithm. Merge, Selection, and Insertion.\n",
    "Take about 5 minutes to read about your algorithm and be ready to explain it to your other group members. \n",
    "\n",
    "[Merge](https://www.geeksforgeeks.org/merge-sort/#)\n",
    "\n",
    "[Selection](https://www.geeksforgeeks.org/selection-sort/)\n",
    "\n",
    "[Insertion](https://www.geeksforgeeks.org/insertion-sort/)"
   ]
  },
  {
   "attachments": {},
   "cell_type": "markdown",
   "metadata": {},
   "source": [
    "## Practice\n",
    "\n",
    "[75, 17, 46, 80, 67, 45, 69, 79, 40, 0]\n",
    "\n",
    "How would you sort this list with... \n",
    "- **Bubble Sort:** Find the nth value, then compare it to the n-1th value. If the nth value is less than the n-1th value, swap their positions. Do until the list is sorted.\n",
    "```\n",
    "1: [17, 75, 46, 80, 67, 45, 69, 79, 40, 0]\n",
    "2: [17, 46, 75, 80, 67, 45, 69, 79, 40, 0]\n",
    "3: [17, 46, 75, 67, 80, 45, 69, 79, 40, 0]\n",
    "4: [17, 46, 75, 67, 45, 80, 69, 79, 40, 0]\n",
    "5: [17, 46, 75, 67, 45, 69, 80, 79, 40, 0]\n",
    "6: [17, 46, 75, 67, 45, 69, 79, 80, 40, 0]\n",
    "7: [17, 46, 67, 75, 45, 69, 79, 80, 40, 0]\n",
    "8: [17, 46, 67, 45, 75, 69, 79, 80, 40, 0]\n",
    "9: [17, 46, 67, 45, 69, 75, 79, 80, 40, 0]\n",
    "10: [17, 46, 67, 45, 69, 75, 79, 40, 80, 0]\n",
    "11: [17, 46, 67, 45, 69, 75, 79, 40, 0, 80]\n",
    "12: [17, 46, 45, 67, 69, 75, 79, 40, 0, 80]\n",
    "13: [17, 46, 45, 67, 69, 75, 40, 79, 0, 80]\n",
    "14: [17, 46, 45, 67, 69, 75, 40, 0, 79, 80]\n",
    "15: [17, 45, 46, 67, 69, 75, 40, 0, 79, 80]\n",
    "16: [17, 45, 46, 67, 69, 40, 75, 0, 79, 80]\n",
    "17: [17, 45, 46, 67, 69, 40, 0, 75, 79, 80]\n",
    "18: [17, 45, 46, 67, 40, 69, 0, 75, 79, 80]\n",
    "19: [17, 45, 46, 67, 40, 0, 69, 75, 79, 80]\n",
    "20: [17, 45, 46, 40, 67, 0, 69, 75, 79, 80]\n",
    "21: [17, 45, 46, 40, 0, 67, 69, 75, 79, 80]\n",
    "22: [17, 45, 40, 46, 0, 67, 69, 75, 79, 80]\n",
    "23: [17, 45, 40, 0, 46, 67, 69, 75, 79, 80]\n",
    "24: [17, 40, 45, 0, 46, 67, 69, 75, 79, 80]\n",
    "25: [17, 40, 0, 45, 46, 67, 69, 75, 79, 80]\n",
    "26: [17, 0, 40, 45, 46, 67, 69, 75, 79, 80]\n",
    "27: [0, 17, 40, 45, 46, 67, 69, 75, 79, 80]\n",
    "```\n",
    "\n",
    "- Selection Sort: Find smallest value of an unsorted list, then it to its respective positions in a new list. Do until the list is sorted.\n",
    "```\n",
    "1: [0, 75, 17, 46, 80, 67, 45, 69, 79, 40]\n",
    "2: [0, 17, 75, 46, 80, 67, 45, 69, 79, 40]\n",
    "3: [0, 17, 40, 75, 46, 80, 67, 45, 69, 79]\n",
    "3: [0, 17, 40, 45, 75, 46, 80, 67, 69, 79]\n",
    "3: [0, 17, 40, 45, 46, 75, 80, 67, 69, 79]\n",
    "3: [0, 17, 40, 45, 46, 67, 75, 80, 69, 79]\n",
    "3: [0, 17, 40, 45, 46, 67, 69, 75, 80, 79]\n",
    "3: [0, 17, 40, 45, 46, 67, 69, 75, 79, 80]\n",
    "```\n",
    "\n",
    "\n",
    "----\n",
    "\n",
    "[88, 39, 53, 39, 58, 43, 74, 81, 71, 51]\n",
    "\n",
    "How would you sort this list with... \n",
    "- **Merge Sort:** Split the list into two halves, then split those halves into halves, and continue until each list is one item long. Then, merge the lists together, comparing the first item of each list and adding the smaller one to the new list. Do this until the list is sorted.\n",
    "```\n",
    "1: [88, 39, 53, 39, 58, 43, 74, 81, 71, 51]\n",
    "2: [88, 39, 53, 39, 58] [43, 74, 81, 71, 51]\n",
    "3: [88, 39] [53, 39, 58] [43, 74] [81, 71, 51]\n",
    "4: [88] [39] [53] [39] [58] [43] [74] [81] [71] [51]\n",
    "5: [39, 88] [39, 53] [39, 58] [43, 74] [71, 81] [51]\n",
    "6: [39, 39, 53, 58, 88] [43, 74, 71, 81] [51]\n",
    "7: [39, 39, 43, 53, 58, 71, 74, 81, 88] [51]\n",
    "8: [39, 39, 43, 51, 53, 58, 71, 74, 81, 88]\n",
    "```\n",
    "\n",
    "- **Insertion Sort:** Take the nth value, then compare it to the n-1th value. if the nth value is less than the n-1th value, swap the items. If they can't be swapped again, move on to the next pair of values. If they can, keep swapping until the nth value is in the correct position. Do until the list is sorted.\n",
    "```\n",
    "1: [88, 39, 53, 39, 58, 43, 74, 81, 71, 51]\n",
    "2: [39, 88, 53, 39, 58, 43, 74, 81, 71, 51]\n",
    "3: [39, 53, 88, 39, 58, 43, 74, 81, 71, 51]\n",
    "4: [39, 53, 39, 88, 58, 43, 74, 81, 71, 51]\n",
    "5: [39, 39, 53, 88, 58, 43, 74, 81, 71, 51]\n",
    "6: [39, 39, 53, 58, 88, 43, 74, 81, 71, 51]\n",
    "7: [39, 39, 43, 53, 58, 88, 74, 81, 71, 51]\n",
    "8: [39, 39, 43, 53, 58, 74, 88, 81, 71, 51]\n",
    "9: [39, 39, 43, 53, 58, 74, 81, 88, 71, 51]\n",
    "10: [39, 39, 43, 53, 58, 71, 74, 81, 88, 51]\n",
    "11: [39, 39, 43, 53, 58, 71, 74, 81, 51, 88]\n",
    "12: [39, 39, 43, 53, 58, 71, 74, 51, 81, 88]\n",
    "13: [39, 39, 43, 53, 58, 71, 51, 74, 81, 88]\n",
    "14: [39, 39, 43, 53, 58, 51, 71, 74, 81, 88]\n",
    "15: [39, 39, 43, 53, 51, 58, 71, 74, 81, 88]\n",
    "16: [39, 39, 43, 51, 53, 58, 71, 74, 81, 88]\n",
    "```"
   ]
  },
  {
   "attachments": {},
   "cell_type": "markdown",
   "metadata": {},
   "source": [
    "# Sorting Words\n",
    "> Sorting strings works in the same way as integers. Using your expertise algorithm, sort the following list of random words."
   ]
  },
  {
   "cell_type": "code",
   "execution_count": 1,
   "metadata": {},
   "outputs": [
    {
     "name": "stderr",
     "output_type": "stream",
     "text": [
      "[nltk_data] Downloading package words to /Users/ethan/nltk_data...\n",
      "[nltk_data]   Unzipping corpora/words.zip.\n"
     ]
    },
    {
     "name": "stdout",
     "output_type": "stream",
     "text": [
      "Random List\n",
      "['unaffranchised', 'voluntaryist', 'superrenal', 'sniff', 'padronism', 'polysynthetical', 'veer', 'imbarn', 'acaciin', 'vicissitude']\n"
     ]
    }
   ],
   "source": [
    "import nltk\n",
    "import random\n",
    "\n",
    "nltk.download('words')  # Download the word list (only required once)\n",
    "\n",
    "from nltk.corpus import words\n",
    "\n",
    "english_words = words.words()\n",
    "#print(len(english_words))  # Prints the number of words in the list\n",
    "\n",
    "# You can now use the 'english_words' list in your code\n",
    "\n",
    "words = []\n",
    "for i in range(10):\n",
    "    words.append(english_words[random.randint(0,len(english_words))])\n",
    "print(\"Random List\")\n",
    "print(words)"
   ]
  },
  {
   "attachments": {},
   "cell_type": "markdown",
   "metadata": {},
   "source": [
    "## Discuss \n",
    "Answer the following with your group.\n",
    "\n",
    "- When should you use each algorithm? What makes an algorithm the right choice?\n",
    "- Given the following lists...\n",
    "    - [0, 2, 6, 4, 8, 10] - **Bubble Sort:** Only one is out of order, so it only requires one step. \n",
    "    - [Elephant, Banana, Cat, Dog, Apple] - **Selection Sort:** This would take only 4 iterations, while everything else takes more than four.\n",
    "    - [29, 13, 83, 47, 32, 78, 100, 60, 65, 15, 24, 9, 40, 68, 53, 8, 90, 58, 39, 32, 34, 91, 74, 94, 49, 87, 34, 87, 23, 17, 27, 2, 38, 58, 84, 15, 9, 46, 74, 40, 44, 8, 55, 28, 81, 92, 81, 88, 53, 38, 19, 21, 9, 54, 21, 67, 3, 41, 3, 74, 13, 71, 70, 45, 5, 36, 80, 64, 97, 86, 73, 74, 94, 79, 49, 32, 20, 68, 64, 69, 1, 77, 31, 56, 100, 80, 48, 75, 85, 93, 67, 57, 26, 56, 43, 53, 59, 28, 67, 50] - **Merge Sort:** Runs in the least amount of time given a large input\n",
    "\n",
    "Large inputs -> **Merge**\n",
    "Small changes -> **Bubble** or **Insertion**\n",
    "Large changes -> **Selection**\n",
    "\n",
    "Select the algorithm you believe is best for each, explain."
   ]
  },
  {
   "attachments": {},
   "cell_type": "markdown",
   "metadata": {},
   "source": [
    "## HACKS\n",
    "> Provided below is a Bubble Sort Algorithm sorting a list of dictionaries based off of selected key.\n",
    "\n",
    "- Now it's time to do some coding...\n",
    "\n",
    "- Run code and then research and answer these questions...\n",
    "    - Is a list and/or dictionary in python considered a primitive or collection type?  Why?\n",
    "    - Is the list passed into bubble sort \"pass-by-value\" or \"pass-by-reference? Describe why in relation to output.\n",
    "\n",
    "- Implement new cell(s) and/or organize cells to do the following.\n",
    "    - Create your own list\n",
    "    - Use your expertise sorting algorithm (selection, insertion, merge). Note, I got my bubble sort from Geek for Geeks and made modifications. Each student in a group should have a unique algorithm.\n",
    "    - Test your list with my bubble sort\n",
    "    - Test my list with your new sort, do NOT make a copy my list when doing this\n",
    "    - Research analysis on sorting: comparisons, swaps, time.  Build this into your hacks.\n",
    "    - Find a better way to print the data, key first, then other elements in viewable form.\n",
    "\n",
    "Use the code below to help guide your adventure"
   ]
  },
  {
   "cell_type": "code",
   "execution_count": 4,
   "metadata": {},
   "outputs": [
    {
     "name": "stdout",
     "output_type": "stream",
     "text": [
      "[0, 4, 3, 1, 3, 2, 1, 2, 3, 4] [0, 4, 3, 1] [3, 2, 1, 2, 3]\n"
     ]
    }
   ],
   "source": [
    "# Rewriting my own Merge sort in order to understand it better\n",
    "\n",
    "def merge_sort(list):\n",
    "    n=len(list)-1\n",
    "    if 0<n:\n",
    "        pass\n",
    "    else:\n",
    "        return 1\n",
    "    mid = n//2\n",
    "    right=list[mid:]\n",
    "    left=list[:mid]\n",
    "\n",
    "    merge_sort(right)\n",
    "    merge_sort(left)\n",
    "\n",
    "    print(list, right, left)\n",
    "merge_sort([0,4,3,1,3,2,1,2,3,4])"
   ]
  },
  {
   "cell_type": "code",
   "execution_count": 1,
   "metadata": {},
   "outputs": [
    {
     "ename": "SyntaxError",
     "evalue": "cannot assign to function call (2651753327.py, line 24)",
     "output_type": "error",
     "traceback": [
      "\u001b[0;36m  Input \u001b[0;32mIn [1]\u001b[0;36m\u001b[0m\n\u001b[0;31m    arr[k].get(key) = L[i].get(key)\u001b[0m\n\u001b[0m    ^\u001b[0m\n\u001b[0;31mSyntaxError\u001b[0m\u001b[0;31m:\u001b[0m cannot assign to function call\n"
     ]
    }
   ],
   "source": [
    "\"\"\"\n",
    "* Creator: Nighthawk Coding Society\n",
    "Bubble Sort of a List with optimizations\n",
    "\"\"\"\n",
    "\n",
    "\n",
    "\n",
    "def printList(arr):\n",
    "\tfor i in range(len(arr)):\n",
    "\t\tprint(arr[i], end=\" \")\n",
    "\tprint()\n",
    "\n",
    "\n",
    "# Driver Code\n",
    "if __name__ == '__main__':\n",
    "\tarr = [12, 11, 13, 5, 6, 7]\n",
    "\tprint(\"Given array is\", end=\"\\n\")\n",
    "\tprintList(arr)\n",
    "\tmergeSort(arr)\n",
    "\tprint(\"Sorted array is: \", end=\"\\n\")\n",
    "\tprintList(arr)\n",
    "\n",
    "\n",
    "if __name__ == \"__main__\":\n",
    "    # list/dictionary sample\n",
    "    list_of_people = [\n",
    "    {\"name\": \"Risa\", \"age\": 18, \"city\": \"New York\"},\n",
    "    {\"name\": \"John\", \"age\": 63, \"city\": \"Eugene\"},\n",
    "    {\"name\": \"Shekar\", \"age\": 18, \"city\": \"San Francisco\"},\n",
    "    {\"name\": \"Ryan\", \"age\": 21, \"city\": \"Los Angeles\"}\n",
    "    ]\n",
    "    \n",
    "    # assuming uniform keys, pick 1st row as source of keys\n",
    "    key_row = list_of_people[0]\n",
    "\n",
    "    # print list as defined\n",
    "    print(\"Original\")\n",
    "    print(list_of_people)\n",
    "    \n",
    "    for key in key_row:  # finds each key in the row\n",
    "        print(key)\n",
    "        mergeSort(list_of_people, key)  # sort list of people\n",
    "        print(list_of_people)"
   ]
  }
 ],
 "metadata": {
  "kernelspec": {
   "display_name": "base",
   "language": "python",
   "name": "python3"
  },
  "language_info": {
   "codemirror_mode": {
    "name": "ipython",
    "version": 3
   },
   "file_extension": ".py",
   "mimetype": "text/x-python",
   "name": "python",
   "nbconvert_exporter": "python",
   "pygments_lexer": "ipython3",
   "version": "3.9.12 (main, Apr  5 2022, 01:53:17) \n[Clang 12.0.0 ]"
  },
  "orig_nbformat": 4,
  "vscode": {
   "interpreter": {
    "hash": "40d3a090f54c6569ab1632332b64b2c03c39dcf918b08424e98f38b5ae0af88f"
   }
  }
 },
 "nbformat": 4,
 "nbformat_minor": 2
}
