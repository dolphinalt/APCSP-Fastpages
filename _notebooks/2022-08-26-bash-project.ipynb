{
 "cells": [
  {
   "cell_type": "markdown",
   "metadata": {},
   "source": [
    "# Bash hacks project\n",
    "> Ethan Zhao\n",
    "\n",
    "- toc: true \n",
    "- badges: true\n",
    "- comments: true\n",
    "- categories: [bash],[jupyter]"
   ]
  },
  {
   "cell_type": "markdown",
   "metadata": {},
   "source": [
    "# Bash commands"
   ]
  },
  {
   "cell_type": "code",
   "execution_count": 4,
   "metadata": {
    "vscode": {
     "languageId": "shellscript"
    }
   },
   "outputs": [
    {
     "name": "stdout",
     "output_type": "stream",
     "text": [
      "Using conditional statement to create a project directory and project\n",
      "Directory /Users/ethan/bashScriptTest does not exists... makinng directory /Users/ethan/bashScriptTest\n",
      "Directory /Users/ethan/bashScriptTest exists.\n",
      "Directory /Users/ethan/bashScriptTest/APSP-Fastpages does not exists... cloning https://github.com/dolphinalt/APCSP-Fastpages.git\n",
      "Cloning into 'APCSP-Fastpages'...\n",
      "remote: Enumerating objects: 424, done.        \n",
      "remote: Counting objects: 100% (317/317), done.        \n",
      "remote: Compressing objects: 100% (171/171), done.        \n",
      "remote: Total 424 (delta 112), reused 232 (delta 89), pack-reused 107        \n",
      "Receiving objects: 100% (424/424), 8.72 MiB | 1.44 MiB/s, done.\n",
      "Resolving deltas: 100% (112/112), done.\n",
      "Directory /Users/ethan/bashScriptTest/APSP-Fastpages exists.\n"
     ]
    }
   ],
   "source": [
    "echo \"Using conditional statement to create a project directory and project\"\n",
    "\n",
    "# Variable section\n",
    "export project_dir=$HOME/bashScriptTest  # change vscode to different name to test git clone\n",
    "export project=$project_dir/APCSP-Fastpages  # change APCSP to name of project from git clone\n",
    "export project_repo=\"https://github.com/dolphinalt/APCSP-Fastpages.git\"  # change to project of choice\n",
    "\n",
    "cd ~    # start in home directory\n",
    "\n",
    "# Conditional block to make a project directory\n",
    "if [ ! -d $project_dir ]\n",
    "then \n",
    "    echo \"Directory $project_dir does not exists... makinng directory $project_dir\"\n",
    "    mkdir -p $project_dir\n",
    "fi\n",
    "echo \"Directory $project_dir exists.\" \n",
    "\n",
    "# Conditional block to git clone a project from project_repo\n",
    "if [ ! -d $project ]\n",
    "then\n",
    "    echo \"Directory $project does not exists... cloning $project_repo\"\n",
    "    cd $project_dir\n",
    "    git clone $project_repo\n",
    "    cd ~\n",
    "fi\n",
    "echo \"Directory $project exists.\""
   ]
  },
  {
   "cell_type": "code",
   "execution_count": 1,
   "metadata": {
    "vscode": {
     "languageId": "shellscript"
    }
   },
   "outputs": [
    {
     "name": "stdout",
     "output_type": "stream",
     "text": [
      "Navigate to project, then navigate to area wwhere files were cloned\n",
      "/Users/ethan\n",
      "\n",
      "list top level or root of files with project pulled from github\n",
      "Applications\t\tMovies\t\t\tspaceship-prompt\n",
      "Desktop\t\t\tMusic\t\t\ttesting\n",
      "Documents\t\tPictures\t\tvscode\n",
      "Downloads\t\tPublic\n",
      "Library\t\t\tscripts\n",
      "\n",
      "list again with hidden files pulled from github\n",
      ".\t\t\t.jupyter\t\tDocuments\n",
      "..\t\t\t.lesshst\t\tDownloads\n",
      ".CFUserTextEncoding\t.local\t\t\tLibrary\n",
      ".DS_Store\t\t.npm\t\t\tMovies\n",
      ".Trash\t\t\t.tcshrc\t\t\tMusic\n",
      ".bash_history\t\t.vscode\t\t\tPictures\n",
      ".bash_profile\t\t.xonshrc\t\tPublic\n",
      ".conda\t\t\t.zprofile\t\tscripts\n",
      ".config\t\t\t.zsh_history\t\tspaceship-prompt\n",
      ".gitconfig\t\t.zsh_sessions\t\ttesting\n",
      ".hyper.js\t\t.zshrc\t\t\tvscode\n",
      ".hyper_plugins\t\tApplications\n",
      ".ipython\t\tDesktop\n",
      "\n",
      "list all files in long format\n",
      "total 136\n",
      "drwxr-x---+ 37 ethan  staff   1184 Aug 26 14:44 .\n",
      "drwxr-xr-x   6 root   admin    192 Aug 18 19:43 ..\n",
      "-r--------   1 ethan  staff      7 Aug 25 13:34 .CFUserTextEncoding\n",
      "-rw-r--r--@  1 ethan  staff  10244 Aug 25 13:02 .DS_Store\n",
      "drwx------+  8 ethan  staff    256 Aug 24 14:59 .Trash\n",
      "-rw-------   1 ethan  staff      4 Aug 19 13:00 .bash_history\n",
      "-rw-r--r--   1 ethan  staff    484 Aug 18 22:01 .bash_profile\n",
      "drwxrwsr-x   3 root   staff     96 Aug 20 18:34 .conda\n",
      "drwxr-xr-x   5 ethan  staff    160 Aug 23 14:56 .config\n",
      "-rw-r--r--   1 root   staff     59 Aug 19 15:13 .gitconfig\n",
      "-rw-r--r--   1 ethan  staff   7112 Aug 18 22:41 .hyper.js\n",
      "drwxr-xr-x   6 ethan  staff    192 Aug 18 20:50 .hyper_plugins\n",
      "drwxr-xr-x   3 ethan  staff     96 Aug 21 13:52 .ipython\n",
      "drwxr-xr-x   3 root   staff     96 Aug 23 15:23 .jupyter\n",
      "-rw-------   1 root   staff     20 Aug 20 19:00 .lesshst\n",
      "drwxr-xr-x   3 ethan  staff     96 Aug 18 22:14 .local\n",
      "drwxr-xr-x   7 ethan  staff    224 Aug 23 14:56 .npm\n",
      "-rw-r--r--   1 ethan  staff    281 Aug 18 20:38 .tcshrc\n",
      "drwxr-xr-x   4 ethan  staff    128 Aug 18 20:30 .vscode\n",
      "-rw-r--r--   1 ethan  staff    564 Aug 18 20:38 .xonshrc\n",
      "-rw-r--r--   1 ethan  staff    164 Aug 18 20:29 .zprofile\n",
      "-rw-------   1 ethan  staff  10132 Aug 26 08:36 .zsh_history\n",
      "drwx------  13 ethan  staff    416 Aug 21 12:31 .zsh_sessions\n",
      "-rw-r--r--@  1 ethan  staff   1119 Aug 18 23:37 .zshrc\n",
      "drwx------@  3 ethan  staff     96 Aug 20 20:52 Applications\n",
      "drwx------+  8 ethan  staff    256 Aug 24 12:56 Desktop\n",
      "drwx------+  4 ethan  staff    128 Aug 18 22:56 Documents\n",
      "drwx------+ 36 ethan  staff   1152 Aug 25 13:49 Downloads\n",
      "drwx------@ 82 ethan  staff   2624 Aug 25 13:34 Library\n",
      "drwx------   4 ethan  staff    128 Aug 19 09:30 Movies\n",
      "drwx------+  4 ethan  staff    128 Aug 21 16:06 Music\n",
      "drwx------+  4 ethan  staff    128 Aug 20 22:25 Pictures\n",
      "drwxr-xr-x+  4 ethan  staff    128 Aug 18 19:43 Public\n",
      "drwxr-xr-x   2 ethan  staff     64 Aug 24 15:02 scripts\n",
      "drwxr-xr-x  26 ethan  staff    832 Aug 18 21:59 spaceship-prompt\n",
      "drwxr-xr-x   3 ethan  staff     96 Aug 19 15:04 testing\n",
      "drwxr-xr-x   7 ethan  staff    224 Aug 23 15:32 vscode\n",
      "Look for posts\n",
      "bash: cd: /_posts: No such file or directory\n",
      "/Users/ethan\n",
      "total 0\n",
      "drwx------@  3 ethan  staff    96 Aug 20 20:52 Applications\n",
      "drwx------+  8 ethan  staff   256 Aug 24 12:56 Desktop\n",
      "drwx------+  4 ethan  staff   128 Aug 18 22:56 Documents\n",
      "drwx------+ 36 ethan  staff  1152 Aug 25 13:49 Downloads\n",
      "drwx------@ 82 ethan  staff  2624 Aug 25 13:34 Library\n",
      "drwx------   4 ethan  staff   128 Aug 19 09:30 Movies\n",
      "drwx------+  4 ethan  staff   128 Aug 21 16:06 Music\n",
      "drwx------+  4 ethan  staff   128 Aug 20 22:25 Pictures\n",
      "drwxr-xr-x+  4 ethan  staff   128 Aug 18 19:43 Public\n",
      "drwxr-xr-x   2 ethan  staff    64 Aug 24 15:02 scripts\n",
      "drwxr-xr-x  26 ethan  staff   832 Aug 18 21:59 spaceship-prompt\n",
      "drwxr-xr-x   3 ethan  staff    96 Aug 19 15:04 testing\n",
      "drwxr-xr-x   7 ethan  staff   224 Aug 23 15:32 vscode\n",
      "Look for notebooks\n",
      "bash: cd: /_notebooks: No such file or directory\n",
      "/Users/ethan\n",
      "total 0\n",
      "drwx------@  3 ethan  staff    96 Aug 20 20:52 Applications\n",
      "drwx------+  8 ethan  staff   256 Aug 24 12:56 Desktop\n",
      "drwx------+  4 ethan  staff   128 Aug 18 22:56 Documents\n",
      "drwx------+ 36 ethan  staff  1152 Aug 25 13:49 Downloads\n",
      "drwx------@ 82 ethan  staff  2624 Aug 25 13:34 Library\n",
      "drwx------   4 ethan  staff   128 Aug 19 09:30 Movies\n",
      "drwx------+  4 ethan  staff   128 Aug 21 16:06 Music\n",
      "drwx------+  4 ethan  staff   128 Aug 20 22:25 Pictures\n",
      "drwxr-xr-x+  4 ethan  staff   128 Aug 18 19:43 Public\n",
      "drwxr-xr-x   2 ethan  staff    64 Aug 24 15:02 scripts\n",
      "drwxr-xr-x  26 ethan  staff   832 Aug 18 21:59 spaceship-prompt\n",
      "drwxr-xr-x   3 ethan  staff    96 Aug 19 15:04 testing\n",
      "drwxr-xr-x   7 ethan  staff   224 Aug 23 15:32 vscode\n",
      "Look for images in notebooks, print working directory, list files\n",
      "bash: cd: /_notebooks/images: No such file or directory\n",
      "/Users/ethan\n",
      "total 0\n",
      "drwx------@  3 ethan  staff    96 Aug 20 20:52 Applications\n",
      "drwx------+  8 ethan  staff   256 Aug 24 12:56 Desktop\n",
      "drwx------+  4 ethan  staff   128 Aug 18 22:56 Documents\n",
      "drwx------+ 36 ethan  staff  1152 Aug 25 13:49 Downloads\n",
      "drwx------@ 82 ethan  staff  2624 Aug 25 13:34 Library\n",
      "drwx------   4 ethan  staff   128 Aug 19 09:30 Movies\n",
      "drwx------+  4 ethan  staff   128 Aug 21 16:06 Music\n",
      "drwx------+  4 ethan  staff   128 Aug 20 22:25 Pictures\n",
      "drwxr-xr-x+  4 ethan  staff   128 Aug 18 19:43 Public\n",
      "drwxr-xr-x   2 ethan  staff    64 Aug 24 15:02 scripts\n",
      "drwxr-xr-x  26 ethan  staff   832 Aug 18 21:59 spaceship-prompt\n",
      "drwxr-xr-x   3 ethan  staff    96 Aug 19 15:04 testing\n",
      "drwxr-xr-x   7 ethan  staff   224 Aug 23 15:32 vscode\n"
     ]
    }
   ],
   "source": [
    "echo \"Navigate to project, then navigate to area wwhere files were cloned\"\n",
    "cd /Users/ethan/vscode/APCSP-Fastpages\n",
    "pwd\n",
    "\n",
    "echo \"\"\n",
    "echo \"list top level or root of files with project pulled from github\"\n",
    "ls\n",
    "\n",
    "echo \"\"\n",
    "echo \"list again with hidden files pulled from github\"\n",
    "ls -a   # hidden files flag, many shell commands have flags\n",
    "\n",
    "echo \"\"\n",
    "echo \"list all files in long format\"\n",
    "ls -al   # all files and long listing"
   ]
  },
  {
   "cell_type": "code",
   "execution_count": 5,
   "metadata": {
    "vscode": {
     "languageId": "shellscript"
    }
   },
   "outputs": [
    {
     "name": "stdout",
     "output_type": "stream",
     "text": [
      "Look for posts\n",
      "bash: cd: /Users/ethan/bashScriptTest/APSP-Fastpages/_posts: No such file or directory\n",
      "/Users/ethan\n",
      "total 0\n",
      "drwx------@  3 ethan  staff    96 Aug 20 20:52 Applications\n",
      "drwx------+  8 ethan  staff   256 Aug 24 12:56 Desktop\n",
      "drwx------+  4 ethan  staff   128 Aug 18 22:56 Documents\n",
      "drwx------+ 36 ethan  staff  1152 Aug 25 13:49 Downloads\n",
      "drwx------@ 82 ethan  staff  2624 Aug 25 13:34 Library\n",
      "drwx------   4 ethan  staff   128 Aug 19 09:30 Movies\n",
      "drwx------+  4 ethan  staff   128 Aug 21 16:06 Music\n",
      "drwx------+  4 ethan  staff   128 Aug 20 22:25 Pictures\n",
      "drwxr-xr-x+  4 ethan  staff   128 Aug 18 19:43 Public\n",
      "drwxr-xr-x   3 ethan  staff    96 Aug 26 15:20 bashScriptTest\n",
      "drwxr-xr-x   2 ethan  staff    64 Aug 24 15:02 scripts\n",
      "drwxr-xr-x  26 ethan  staff   832 Aug 18 21:59 spaceship-prompt\n",
      "drwxr-xr-x   3 ethan  staff    96 Aug 19 15:04 testing\n",
      "drwxr-xr-x   6 ethan  staff   192 Aug 26 15:17 vscode\n"
     ]
    }
   ],
   "source": [
    "echo \"Look for posts\"\n",
    "export posts=$project/_posts  # _posts inside project\n",
    "cd $posts  # this should exist per fastpages\n",
    "pwd  # present working directory\n",
    "ls -l  # list posts"
   ]
  },
  {
   "cell_type": "code",
   "execution_count": 6,
   "metadata": {
    "vscode": {
     "languageId": "shellscript"
    }
   },
   "outputs": [
    {
     "name": "stdout",
     "output_type": "stream",
     "text": [
      "Look for notebooks\n",
      "bash: cd: /Users/ethan/bashScriptTest/APSP-Fastpages/_notebooks: No such file or directory\n",
      "/Users/ethan\n",
      "total 0\n",
      "drwx------@  3 ethan  staff    96 Aug 20 20:52 Applications\n",
      "drwx------+  8 ethan  staff   256 Aug 24 12:56 Desktop\n",
      "drwx------+  4 ethan  staff   128 Aug 18 22:56 Documents\n",
      "drwx------+ 36 ethan  staff  1152 Aug 25 13:49 Downloads\n",
      "drwx------@ 82 ethan  staff  2624 Aug 25 13:34 Library\n",
      "drwx------   4 ethan  staff   128 Aug 19 09:30 Movies\n",
      "drwx------+  4 ethan  staff   128 Aug 21 16:06 Music\n",
      "drwx------+  4 ethan  staff   128 Aug 20 22:25 Pictures\n",
      "drwxr-xr-x+  4 ethan  staff   128 Aug 18 19:43 Public\n",
      "drwxr-xr-x   3 ethan  staff    96 Aug 26 15:20 bashScriptTest\n",
      "drwxr-xr-x   2 ethan  staff    64 Aug 24 15:02 scripts\n",
      "drwxr-xr-x  26 ethan  staff   832 Aug 18 21:59 spaceship-prompt\n",
      "drwxr-xr-x   3 ethan  staff    96 Aug 19 15:04 testing\n",
      "drwxr-xr-x   6 ethan  staff   192 Aug 26 15:17 vscode\n"
     ]
    }
   ],
   "source": [
    "echo \"Look for notebooks\"\n",
    "export notebooks=$project/_notebooks  # _notebooks is inside project\n",
    "cd $notebooks   # this should exist per fastpages\n",
    "pwd  # present working directory\n",
    "ls -l  # list notebooks"
   ]
  },
  {
   "cell_type": "code",
   "execution_count": 7,
   "metadata": {
    "vscode": {
     "languageId": "shellscript"
    }
   },
   "outputs": [
    {
     "name": "stdout",
     "output_type": "stream",
     "text": [
      "Look for images in notebooks, print working directory, list files\n",
      "bash: cd: /Users/ethan/bashScriptTest/APSP-Fastpages/_notebooks/images: No such file or directory\n",
      "/Users/ethan\n",
      "total 0\n",
      "drwx------@  3 ethan  staff    96 Aug 20 20:52 Applications\n",
      "drwx------+  8 ethan  staff   256 Aug 24 12:56 Desktop\n",
      "drwx------+  4 ethan  staff   128 Aug 18 22:56 Documents\n",
      "drwx------+ 36 ethan  staff  1152 Aug 25 13:49 Downloads\n",
      "drwx------@ 82 ethan  staff  2624 Aug 25 13:34 Library\n",
      "drwx------   4 ethan  staff   128 Aug 19 09:30 Movies\n",
      "drwx------+  4 ethan  staff   128 Aug 21 16:06 Music\n",
      "drwx------+  4 ethan  staff   128 Aug 20 22:25 Pictures\n",
      "drwxr-xr-x+  4 ethan  staff   128 Aug 18 19:43 Public\n",
      "drwxr-xr-x   3 ethan  staff    96 Aug 26 15:20 bashScriptTest\n",
      "drwxr-xr-x   2 ethan  staff    64 Aug 24 15:02 scripts\n",
      "drwxr-xr-x  26 ethan  staff   832 Aug 18 21:59 spaceship-prompt\n",
      "drwxr-xr-x   3 ethan  staff    96 Aug 19 15:04 testing\n",
      "drwxr-xr-x   6 ethan  staff   192 Aug 26 15:17 vscode\n"
     ]
    }
   ],
   "source": [
    "echo \"Look for images in notebooks, print working directory, list files\"\n",
    "cd $notebooks/images  # this should exist per fastpages\n",
    "pwd\n",
    "ls -l"
   ]
  },
  {
   "cell_type": "code",
   "execution_count": 8,
   "metadata": {
    "vscode": {
     "languageId": "shellscript"
    }
   },
   "outputs": [
    {
     "name": "stdout",
     "output_type": "stream",
     "text": [
      "Navigate to project, then navigate to area wwhere files were cloned\n",
      "bash: cd: /Users/ethan/bashScriptTest/APSP-Fastpages: No such file or directory\n",
      "show the contents of README.md\n",
      "\n",
      "cat: README.md: No such file or directory\n",
      "\n",
      "end of README.md\n"
     ]
    }
   ],
   "source": [
    "echo \"Navigate to project, then navigate to area wwhere files were cloned\"\n",
    "\n",
    "cd $project\n",
    "echo \"show the contents of README.md\"\n",
    "echo \"\"\n",
    "\n",
    "cat README.md  # show contents of file, in this case markdown\n",
    "echo \"\"\n",
    "echo \"end of README.md\""
   ]
  },
  {
   "cell_type": "code",
   "execution_count": 9,
   "metadata": {
    "vscode": {
     "languageId": "shellscript"
    }
   },
   "outputs": [
    {
     "name": "stdout",
     "output_type": "stream",
     "text": [
      "Show the shell environment variables, key on left of equal value on right\n",
      "\n",
      "SHELL=/bin/zsh\n",
      "TMPDIR=/var/folders/rj/xqwp1ltn32x43mdbnjtt7_kw0000gp/T/\n",
      "PYTHONUNBUFFERED=1\n",
      "OLDPWD=/Users/ethan/bashScriptTest\n",
      "ORIGINAL_XDG_CURRENT_DESKTOP=undefined\n",
      "MallocNanoZone=0\n",
      "PYDEVD_USE_FRAME_EVAL=NO\n",
      "PYTHONIOENCODING=utf-8\n",
      "USER=ethan\n",
      "COMMAND_MODE=unix2003\n",
      "SSH_AUTH_SOCK=/private/tmp/com.apple.launchd.CdC9C6VKUG/Listeners\n",
      "__CF_USER_TEXT_ENCODING=0x1F6:0x0:0x0\n",
      "PAGER=cat\n",
      "VSCODE_AMD_ENTRYPOINT=vs/workbench/api/node/extensionHostProcess\n",
      "ELECTRON_RUN_AS_NODE=1\n",
      "PATH=/usr/bin:/bin:/usr/sbin:/sbin\n",
      "LaunchInstanceID=76CDE6C2-7A2B-4C18-AECA-46D7C99A5E36\n",
      "__CFBundleIdentifier=com.microsoft.VSCode\n",
      "PWD=/Users/ethan\n",
      "notebooks=/Users/ethan/bashScriptTest/APSP-Fastpages/_notebooks\n",
      "VSCODE_HANDLES_UNCAUGHT_ERRORS=true\n",
      "project_repo=https://github.com/dolphinalt/APCSP-Fastpages.git\n",
      "project=/Users/ethan/bashScriptTest/APSP-Fastpages\n",
      "project_dir=/Users/ethan/bashScriptTest\n",
      "XPC_FLAGS=0x0\n",
      "PS1=[PEXP\\[\\]ECT_PROMPT>\n",
      "XPC_SERVICE_NAME=0\n",
      "SHLVL=1\n",
      "HOME=/Users/ethan\n",
      "APPLICATION_INSIGHTS_NO_DIAGNOSTIC_CHANNEL=1\n",
      "VSCODE_NLS_CONFIG={\"locale\":\"en-us\",\"availableLanguages\":{},\"_languagePackSupport\":true}\n",
      "LOGNAME=ethan\n",
      "LC_CTYPE=UTF-8\n",
      "VSCODE_IPC_HOOK=/Users/ethan/Library/Application Support/Code/1.70.2-main.sock\n",
      "VSCODE_CODE_CACHE_PATH=/Users/ethan/Library/Application Support/Code/CachedData/e4503b30fc78200f846c62cf8091b76ff5547662\n",
      "VSCODE_PID=356\n",
      "posts=/Users/ethan/bashScriptTest/APSP-Fastpages/_posts\n",
      "VSCODE_CWD=/\n",
      "SECURITYSESSIONID=186a3\n",
      "_=/usr/bin/env\n"
     ]
    }
   ],
   "source": [
    "echo \"Show the shell environment variables, key on left of equal value on right\"\n",
    "echo \"\"\n",
    "\n",
    "env"
   ]
  },
  {
   "cell_type": "code",
   "execution_count": 10,
   "metadata": {
    "vscode": {
     "languageId": "shellscript"
    }
   },
   "outputs": [
    {
     "name": "stdout",
     "output_type": "stream",
     "text": [
      "bash: cd: /Users/ethan/bashScriptTest/APSP-Fastpages: No such file or directory\n",
      "\n",
      "show the secrets of .git\n",
      "bash: cd: .git: No such file or directory\n",
      "total 0\n",
      "drwx------@  3 ethan  staff    96 Aug 20 20:52 Applications\n",
      "drwx------+  8 ethan  staff   256 Aug 24 12:56 Desktop\n",
      "drwx------+  4 ethan  staff   128 Aug 18 22:56 Documents\n",
      "drwx------+ 36 ethan  staff  1152 Aug 25 13:49 Downloads\n",
      "drwx------@ 82 ethan  staff  2624 Aug 25 13:34 Library\n",
      "drwx------   4 ethan  staff   128 Aug 19 09:30 Movies\n",
      "drwx------+  4 ethan  staff   128 Aug 21 16:06 Music\n",
      "drwx------+  4 ethan  staff   128 Aug 20 22:25 Pictures\n",
      "drwxr-xr-x+  4 ethan  staff   128 Aug 18 19:43 Public\n",
      "drwxr-xr-x   3 ethan  staff    96 Aug 26 15:20 bashScriptTest\n",
      "drwxr-xr-x   2 ethan  staff    64 Aug 24 15:02 scripts\n",
      "drwxr-xr-x  26 ethan  staff   832 Aug 18 21:59 spaceship-prompt\n",
      "drwxr-xr-x   3 ethan  staff    96 Aug 19 15:04 testing\n",
      "drwxr-xr-x   6 ethan  staff   192 Aug 26 15:17 vscode\n",
      "\n",
      "look at config file\n",
      "cat: config: No such file or directory\n"
     ]
    },
    {
     "ename": "",
     "evalue": "1",
     "output_type": "error",
     "traceback": []
    }
   ],
   "source": [
    "cd $project\n",
    "\n",
    "echo \"\"\n",
    "echo \"show the secrets of .git\"\n",
    "cd .git\n",
    "ls -l\n",
    "\n",
    "echo \"\"\n",
    "echo \"look at config file\"\n",
    "cat config"
   ]
  }
 ],
 "metadata": {
  "kernelspec": {
   "display_name": "Bash",
   "language": "bash",
   "name": "bash"
  },
  "language_info": {
   "codemirror_mode": "shell",
   "file_extension": ".sh",
   "mimetype": "text/x-sh",
   "name": "bash"
  },
  "varInspector": {
   "cols": {
    "lenName": 16,
    "lenType": 16,
    "lenVar": 40
   },
   "kernels_config": {
    "python": {
     "delete_cmd_postfix": "",
     "delete_cmd_prefix": "del ",
     "library": "var_list.py",
     "varRefreshCmd": "print(var_dic_list())"
    },
    "r": {
     "delete_cmd_postfix": ") ",
     "delete_cmd_prefix": "rm(",
     "library": "var_list.r",
     "varRefreshCmd": "cat(var_dic_list()) "
    }
   },
   "types_to_exclude": [
    "module",
    "function",
    "builtin_function_or_method",
    "instance",
    "_Feature"
   ],
   "window_display": false
  },
  "vscode": {
   "interpreter": {
    "hash": "40d3a090f54c6569ab1632332b64b2c03c39dcf918b08424e98f38b5ae0af88f"
   }
  }
 },
 "nbformat": 4,
 "nbformat_minor": 4
}
