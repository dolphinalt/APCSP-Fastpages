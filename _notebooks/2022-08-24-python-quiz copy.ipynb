{
 "cells": [
  {
   "cell_type": "markdown",
   "metadata": {},
   "source": [
    "# Python Quiz for API notebook\n",
    "> Ethan Zhao\n",
    "\n",
    "- toc: true \n",
    "- badges: true\n",
    "- comments: true\n",
    "- categories: [jupyter]"
   ]
  },
  {
   "cell_type": "markdown",
   "metadata": {},
   "source": [
    "# API code"
   ]
  },
  {
   "cell_type": "code",
   "execution_count": 3,
   "metadata": {},
   "outputs": [
    {
     "name": "stdout",
     "output_type": "stream",
     "text": [
      "Address,Date time,Latitude,Longitude,Resolved Address,Name,Wind Direction,Minimum Temperature,Maximum Temperature,Temperature,Wind Speed,Cloud Cover,Heat Index,Chance Precipitation (%),Precipitation,Sea Level Pressure,Snow Depth,Snow,Relative Humidity,Wind Gust,Wind Chill,Conditions\n",
      "\"San,Diego,USA\",\"10/10/2022\",32.71568,-117.16171,\"San Diego, CA, United States\",\"San,Diego,USA\",293.3,66.1,72.1,68.1,4.2,94.4,,0.0,0.0,1014.0,0.0,0.0,83.4,7.4,,\"Overcast\"\n",
      "\"San,Diego,USA\",\"10/11/2022\",32.71568,-117.16171,\"San Diego, CA, United States\",\"San,Diego,USA\",307.6,63.8,73.1,66.7,3.8,91.2,,47.6,0.0,1015.7,0.0,0.0,86.5,9.4,,\"Overcast\"\n",
      "\"San,Diego,USA\",\"10/12/2022\",32.71568,-117.16171,\"San Diego, CA, United States\",\"San,Diego,USA\",321.7,65.9,76.6,69.6,5.1,43.8,,19.0,0.0,1016.4,0.0,0.0,80.4,11.6,,\"Partially cloudy\"\n",
      "\"San,Diego,USA\",\"10/13/2022\",32.71568,-117.16171,\"San Diego, CA, United States\",\"San,Diego,USA\",298.1,67.0,71.0,68.7,6.6,8.2,,4.8,0.0,1014.3,,,81.1,8.7,,\"Clear\"\n",
      "\"San,Diego,USA\",\"10/14/2022\",32.71568,-117.16171,\"San Diego, CA, United States\",\"San,Diego,USA\",231.0,66.3,69.0,67.4,5.5,26.1,,9.5,0.13,1009.6,,,80.3,8.3,,\"Partially cloudy\"\n",
      "\"San,Diego,USA\",\"10/15/2022\",32.71568,-117.16171,\"San Diego, CA, United States\",\"San,Diego,USA\",216.2,64.5,67.6,66.1,6.4,66.1,,28.6,0.29,1010.8,,0.0,76.1,10.5,,\"Partially cloudy\"\n",
      "\"San,Diego,USA\",\"10/16/2022\",32.71568,-117.16171,\"San Diego, CA, United States\",\"San,Diego,USA\",289.8,65.7,68.3,66.8,6.2,56.0,,14.3,0.02,1012.9,,0.0,78.0,9.4,,\"Partially cloudy\"\n",
      "\"San,Diego,USA\",\"10/17/2022\",32.71568,-117.16171,\"San Diego, CA, United States\",\"San,Diego,USA\",292.6,65.6,68.3,66.4,7.3,56.5,,9.5,0.01,1014.7,,0.0,75.3,7.4,,\"Partially cloudy\"\n",
      "\"San,Diego,USA\",\"10/18/2022\",32.71568,-117.16171,\"San Diego, CA, United States\",\"San,Diego,USA\",271.7,64.3,67.6,65.8,5.4,35.2,,19.0,0.0,1014.2,,0.0,74.3,7.2,,\"Partially cloudy\"\n",
      "\"San,Diego,USA\",\"10/19/2022\",32.71568,-117.16171,\"San Diego, CA, United States\",\"San,Diego,USA\",236.5,65.4,68.8,66.6,4.0,99.2,,9.5,0.0,1013.0,,0.0,76.6,6.5,,\"Overcast\"\n",
      "\"San,Diego,USA\",\"10/20/2022\",32.71568,-117.16171,\"San Diego, CA, United States\",\"San,Diego,USA\",225.3,65.4,67.7,66.3,5.3,58.9,,14.3,0.05,1014.6,,0.0,77.4,6.7,,\"Partially cloudy\"\n",
      "\"San,Diego,USA\",\"10/21/2022\",32.71568,-117.16171,\"San Diego, CA, United States\",\"San,Diego,USA\",241.7,64.7,67.4,65.9,5.3,17.2,,19.0,0.01,1013.8,,0.0,75.8,6.9,,\"Clear\"\n",
      "\"San,Diego,USA\",\"10/22/2022\",32.71568,-117.16171,\"San Diego, CA, United States\",\"San,Diego,USA\",242.9,64.5,66.5,65.4,6.4,56.6,,23.8,0.02,1010.8,,0.0,76.2,9.2,,\"Partially cloudy\"\n",
      "\"San,Diego,USA\",\"10/23/2022\",32.71568,-117.16171,\"San Diego, CA, United States\",\"San,Diego,USA\",207.9,63.2,66.8,65.1,9.0,71.7,,14.3,0.09,1008.1,,0.0,75.2,15.4,,\"Partially cloudy\"\n",
      "\"San,Diego,USA\",\"10/24/2022\",32.71568,-117.16171,\"San Diego, CA, United States\",\"San,Diego,USA\",198.1,62.7,64.3,63.4,6.7,91.8,,23.8,0.04,1010.0,,0.0,65.4,14.7,,\"Overcast\"\n",
      "\"San,Diego,USA\",\"10/25/2022\",32.71568,-117.16171,\"San Diego, CA, United States\",\"San,Diego,USA\",124.6,64.1,76.2,69.8,10.6,15.3,,14.3,0.0,1018.1,,0.0,36.8,28.9,,\"Clear\"\n",
      "\n"
     ]
    }
   ],
   "source": [
    "import requests\n",
    "\n",
    "url = \"https://visual-crossing-weather.p.rapidapi.com/forecast\"\n",
    "\n",
    "querystring = {\"aggregateHours\":\"24\",\"location\":\"San,Diego,USA\",\"contentType\":\"csv\",\"unitGroup\":\"us\",\"shortColumnNames\":\"0\"}\n",
    "\n",
    "headers = {\n",
    "\t\"X-RapidAPI-Key\": \"eb0bbc6cc0msh085b254f1761bc2p154cf4jsne59a8dbdbaa0\",\n",
    "\t\"X-RapidAPI-Host\": \"visual-crossing-weather.p.rapidapi.com\"\n",
    "}\n",
    "\n",
    "response = requests.request(\"GET\", url, headers=headers, params=querystring)\n",
    "\n",
    "print(response.text)"
   ]
  }
 ],
 "metadata": {
  "kernelspec": {
   "display_name": "Python 3.9.12 ('base')",
   "language": "python",
   "name": "python3"
  },
  "language_info": {
   "codemirror_mode": {
    "name": "ipython",
    "version": 3
   },
   "file_extension": ".py",
   "mimetype": "text/x-python",
   "name": "python",
   "nbconvert_exporter": "python",
   "pygments_lexer": "ipython3",
   "version": "3.9.12"
  },
  "varInspector": {
   "cols": {
    "lenName": 16,
    "lenType": 16,
    "lenVar": 40
   },
   "kernels_config": {
    "python": {
     "delete_cmd_postfix": "",
     "delete_cmd_prefix": "del ",
     "library": "var_list.py",
     "varRefreshCmd": "print(var_dic_list())"
    },
    "r": {
     "delete_cmd_postfix": ") ",
     "delete_cmd_prefix": "rm(",
     "library": "var_list.r",
     "varRefreshCmd": "cat(var_dic_list()) "
    }
   },
   "types_to_exclude": [
    "module",
    "function",
    "builtin_function_or_method",
    "instance",
    "_Feature"
   ],
   "window_display": false
  },
  "vscode": {
   "interpreter": {
    "hash": "40d3a090f54c6569ab1632332b64b2c03c39dcf918b08424e98f38b5ae0af88f"
   }
  }
 },
 "nbformat": 4,
 "nbformat_minor": 4
}
