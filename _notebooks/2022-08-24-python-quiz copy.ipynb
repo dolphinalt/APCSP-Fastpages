{
 "cells": [
  {
   "cell_type": "markdown",
   "metadata": {},
   "source": [
    "# Python Quiz for API notebook\n",
    "> Ethan Zhao\n",
    "\n",
    "- toc: true \n",
    "- badges: true\n",
    "- comments: true\n",
    "- categories: [jupyter]"
   ]
  },
  {
   "cell_type": "markdown",
   "metadata": {},
   "source": [
    "# API code"
   ]
  },
  {
   "cell_type": "code",
   "execution_count": 1,
   "metadata": {},
   "outputs": [
    {
     "name": "stdout",
     "output_type": "stream",
     "text": [
      "Address,Date time,Latitude,Longitude,Resolved Address,Name,Wind Direction,Minimum Temperature,Maximum Temperature,Temperature,Wind Speed,Cloud Cover,Heat Index,Chance Precipitation (%),Precipitation,Sea Level Pressure,Snow Depth,Snow,Relative Humidity,Wind Gust,Wind Chill,Conditions\n",
      "\"Washington,DC,USA\",\"10/10/2022\",38.8904,-77.032,\"Washington, DC, United States\",\"Washington,DC,USA\",255.4,52.1,68.1,59.1,3.2,0.0,,0.0,0.0,1024.7,0.0,0.0,45.7,6.9,,\"Clear\"\n",
      "\"Washington,DC,USA\",\"10/11/2022\",38.8904,-77.032,\"Washington, DC, United States\",\"Washington,DC,USA\",199.7,44.7,71.9,56.9,3.6,24.9,,0.0,0.0,1025.9,0.0,0.0,58.6,9.8,42.7,\"Clear\"\n",
      "\"Washington,DC,USA\",\"10/12/2022\",38.8904,-77.032,\"Washington, DC, United States\",\"Washington,DC,USA\",168.0,53.3,69.2,60.8,7.1,71.6,,4.8,0.0,1022.0,0.0,0.0,69.4,23.9,,\"Partially cloudy\"\n",
      "\"Washington,DC,USA\",\"10/13/2022\",38.8904,-77.032,\"Washington, DC, United States\",\"Washington,DC,USA\",198.7,59.4,68.4,62.4,8.6,75.8,,100.0,0.54,1009.3,0.0,0.0,89.7,32.2,,\"Rain, Overcast\"\n",
      "\"Washington,DC,USA\",\"10/14/2022\",38.8904,-77.032,\"Washington, DC, United States\",\"Washington,DC,USA\",273.9,49.4,63.1,56.0,6.6,2.5,,23.8,0.0,1012.5,0.0,0.0,48.1,25.5,47.1,\"Clear\"\n",
      "\"Washington,DC,USA\",\"10/15/2022\",38.8904,-77.032,\"Washington, DC, United States\",\"Washington,DC,USA\",181.3,46.5,67.9,56.5,4.4,6.5,,0.0,0.0,1019.2,0.0,0.0,41.2,24.8,48.1,\"Clear\"\n",
      "\"Washington,DC,USA\",\"10/16/2022\",38.8904,-77.032,\"Washington, DC, United States\",\"Washington,DC,USA\",216.1,53.1,68.8,59.5,4.5,68.6,,14.3,0.03,1019.0,0.0,0.0,61.2,23.9,,\"Partially cloudy\"\n",
      "\"Washington,DC,USA\",\"10/17/2022\",38.8904,-77.032,\"Washington, DC, United States\",\"Washington,DC,USA\",254.1,53.7,66.1,60.1,4.7,92.0,,47.6,0.18,1015.9,0.0,0.0,76.5,26.2,,\"Overcast\"\n",
      "\"Washington,DC,USA\",\"10/18/2022\",38.8904,-77.032,\"Washington, DC, United States\",\"Washington,DC,USA\",331.7,45.0,54.9,50.1,8.1,18.2,,28.6,0.0,1020.3,0.0,0.0,51.7,23.0,40.5,\"Clear\"\n",
      "\"Washington,DC,USA\",\"10/19/2022\",38.8904,-77.032,\"Washington, DC, United States\",\"Washington,DC,USA\",290.1,40.9,56.9,48.6,4.7,2.7,,14.3,0.0,1025.2,0.0,0.0,51.7,19.9,37.1,\"Clear\"\n",
      "\"Washington,DC,USA\",\"10/20/2022\",38.8904,-77.032,\"Washington, DC, United States\",\"Washington,DC,USA\",208.6,44.9,64.7,54.1,4.6,47.6,,14.3,0.0,1020.3,0.0,0.0,57.1,19.5,42.4,\"Partially cloudy\"\n",
      "\"Washington,DC,USA\",\"10/21/2022\",38.8904,-77.032,\"Washington, DC, United States\",\"Washington,DC,USA\",219.2,50.4,67.0,57.1,6.8,24.3,,47.6,0.0,1018.5,0.0,0.0,55.1,23.0,,\"Clear\"\n",
      "\"Washington,DC,USA\",\"10/22/2022\",38.8904,-77.032,\"Washington, DC, United States\",\"Washington,DC,USA\",35.9,44.9,60.0,52.0,8.2,80.4,,23.8,0.02,1022.5,0.0,0.0,64.9,23.7,40.7,\"Overcast\"\n",
      "\"Washington,DC,USA\",\"10/23/2022\",38.8904,-77.032,\"Washington, DC, United States\",\"Washington,DC,USA\",31.4,54.4,57.6,55.6,7.2,100.0,,14.3,0.03,1021.1,0.0,0.0,83.6,24.6,,\"Overcast\"\n",
      "\"Washington,DC,USA\",\"10/24/2022\",38.8904,-77.032,\"Washington, DC, United States\",\"Washington,DC,USA\",81.1,55.1,65.6,59.8,3.9,93.8,,4.8,0.0,1022.0,0.0,0.0,85.6,12.8,,\"Overcast\"\n",
      "\"Washington,DC,USA\",\"10/25/2022\",38.8904,-77.032,\"Washington, DC, United States\",\"Washington,DC,USA\",194.0,60.2,75.6,66.5,2.0,29.4,,19.0,0.0,1021.8,0.0,0.0,76.7,7.2,,\"Partially cloudy\"\n",
      "\n"
     ]
    }
   ],
   "source": [
    "import requests\n",
    "\n",
    "url = \"https://visual-crossing-weather.p.rapidapi.com/forecast\"\n",
    "\n",
    "querystring = {\"aggregateHours\":\"24\",\"location\":\"Washington,DC,USA\",\"contentType\":\"csv\",\"unitGroup\":\"us\",\"shortColumnNames\":\"0\"}\n",
    "\n",
    "headers = {\n",
    "\t\"X-RapidAPI-Key\": \"eb0bbc6cc0msh085b254f1761bc2p154cf4jsne59a8dbdbaa0\",\n",
    "\t\"X-RapidAPI-Host\": \"visual-crossing-weather.p.rapidapi.com\"\n",
    "}\n",
    "\n",
    "response = requests.request(\"GET\", url, headers=headers, params=querystring)\n",
    "\n",
    "print(response.text)"
   ]
  }
 ],
 "metadata": {
  "kernelspec": {
   "display_name": "Python 3.9.12 ('base')",
   "language": "python",
   "name": "python3"
  },
  "language_info": {
   "codemirror_mode": {
    "name": "ipython",
    "version": 3
   },
   "file_extension": ".py",
   "mimetype": "text/x-python",
   "name": "python",
   "nbconvert_exporter": "python",
   "pygments_lexer": "ipython3",
   "version": "3.9.12"
  },
  "varInspector": {
   "cols": {
    "lenName": 16,
    "lenType": 16,
    "lenVar": 40
   },
   "kernels_config": {
    "python": {
     "delete_cmd_postfix": "",
     "delete_cmd_prefix": "del ",
     "library": "var_list.py",
     "varRefreshCmd": "print(var_dic_list())"
    },
    "r": {
     "delete_cmd_postfix": ") ",
     "delete_cmd_prefix": "rm(",
     "library": "var_list.r",
     "varRefreshCmd": "cat(var_dic_list()) "
    }
   },
   "types_to_exclude": [
    "module",
    "function",
    "builtin_function_or_method",
    "instance",
    "_Feature"
   ],
   "window_display": false
  },
  "vscode": {
   "interpreter": {
    "hash": "40d3a090f54c6569ab1632332b64b2c03c39dcf918b08424e98f38b5ae0af88f"
   }
  }
 },
 "nbformat": 4,
 "nbformat_minor": 4
}
