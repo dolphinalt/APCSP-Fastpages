{
 "cells": [
  {
   "attachments": {},
   "cell_type": "markdown",
   "metadata": {},
   "source": [
    "#  Data Structures- Hashmaps, Sets, Hash Tables, Hashing and Collisions\n",
    "> Observing hashmaps with python dictionaries\n",
    "- toc: true\n",
    "- image: /images/python.png\n",
    "- categories: []\n",
    "- type: pbl\n",
    "- week: 28"
   ]
  },
  {
   "attachments": {},
   "cell_type": "markdown",
   "metadata": {},
   "source": [
    "## What is a Hashtable/Hashmap?\n",
    "\n",
    "> A hashtable is a data structure that with a collection of key-value pairs, where each key maps to a value, and the keys must be unique and hashable.\n",
    "\n",
<<<<<<< HEAD
    "- In Python there is a built in hashtable known as a dictionary.\n",
=======
    "- In Python there is a built in hashtable known as a Dictionary.\n",
>>>>>>> 2308703e07a1a84926ae9d591590340f03dd06f7
    "\n",
    "> The primary purpose of a hashtable is to provide efficient lookup, insertion, and deletion operations. When an element is to be inserted into the hashtable, a hash function is used to map the key to a specific index in the underlying array that is used to store the key-value pairs. The value is then stored at that index. When searching for a value, the hash function is used again to find the index where the value is stored.\n",
    "\n",
    "> The key advantage of a hashtable over other data structures like arrays and linked lists is its average-case time complexity for lookup, insertion, and deletion operations.\n",
    "\n",
    "- The typical time complexity of a hashtable is O(1). \n"
   ]
  },
  {
   "attachments": {},
   "cell_type": "markdown",
   "metadata": {},
   "source": [
    "## What is Hashing and Collision?\n",
    "\n",
    "> Hashing is the process of mapping a given key to a value in a hash table or hashmap, using a hash function. The hash function takes the key as input and produces a hash value or hash code, which is then used to determine the index in the underlying array where the value is stored. The purpose of hashing is to provide a quick and efficient way to access data, by eliminating the need to search through an entire data structure to find a value.\n",
    "\n",
    "> However, it is possible for two different keys to map to the same hash value, resulting in a collision. When a collision occurs, there are different ways to resolve it, depending on the collision resolution strategy used.\n",
    "\n",
    "> Python's dictionary implementation is optimized to handle collisions efficiently, and the performance of the dictionary is generally very good, even in the presence of collisions. However, if the number of collisions is very high, the performance of the dictionary can degrade, so it is important to choose a good hash function that minimizes collisions when designing a Python dictionary.\n",
    "\n",
    "## What is a Set?"
   ]
  },
  {
   "cell_type": "code",
<<<<<<< HEAD
   "execution_count": 3,
=======
   "execution_count": 1,
>>>>>>> 2308703e07a1a84926ae9d591590340f03dd06f7
   "metadata": {},
   "outputs": [
    {
     "name": "stdout",
     "output_type": "stream",
     "text": [
      "{1, 2, 3}\n"
     ]
    }
   ],
   "source": [
    "# Creating a set using set() function\n",
    "my_set = set([1, 2, 3, 2, 1])\n",
    "print(my_set)  \n",
    "\n",
    "# What do you notice in the output?\n",
<<<<<<< HEAD
    "# 3 unique values are printed\n",
    "# 1, 2, and 3\n",
    "\n",
    "# Why do you think Sets are in the same tech talk as Hashmaps/Hashtables?\n",
    "# Hashmaps and hashtables can only have unique values, and having a set will eliminate these repeat values"
=======
    "# duplicates are removed\n",
    "\n",
    "# Why do you think Sets are in the same tech talk as Hashmaps/Hashtables?\n",
    "# Hashmaps/Hashtables cannot accept duplicate values\n",
    "#"
>>>>>>> 2308703e07a1a84926ae9d591590340f03dd06f7
   ]
  },
  {
   "attachments": {},
   "cell_type": "markdown",
   "metadata": {},
   "source": [
    "## Dictionary Example\n",
    "\n",
    "Below are just some basic features of a dictionary. As always, documentation is always the main source for all the full capablilties. "
   ]
  },
  {
   "cell_type": "code",
<<<<<<< HEAD
   "execution_count": 4,
=======
   "execution_count": 45,
>>>>>>> 2308703e07a1a84926ae9d591590340f03dd06f7
   "metadata": {},
   "outputs": [
    {
     "name": "stdout",
     "output_type": "stream",
     "text": [
      "{'title': 'Lover', 'artist': 'Taylor Swift', 'year': 2019, 'genre': ['Pop', 'Synth-pop'], 'tracks': {1: 'I Forgot That You Existed', 2: 'Cruel Summer', 3: 'Lover', 4: 'The Man', 5: 'The Archer', 6: 'I Think He Knows', 7: 'Miss Americana & The Heartbreak Prince', 8: 'Paper Rings', 9: 'Cornelia Street', 10: 'Death By A Thousand Cuts', 11: 'London Boy', 12: \"Soon You'll Get Better (feat. Dixie Chicks)\", 13: 'False God', 14: 'You Need To Calm Down', 15: 'Afterglow', 16: 'Me! (feat. Brendon Urie of Panic! At The Disco)', 17: \"It's Nice To Have A Friend\", 18: 'Daylight'}}\n"
     ]
    }
   ],
   "source": [
    "# Creating a dictionary with information about the album \"Lover\"\n",
    "lover_album = {\n",
    "    \"title\": \"Lover\",\n",
    "    \"artist\": \"Taylor Swift\",\n",
    "    \"year\": 2019,\n",
    "    \"genre\": [\"Pop\", \"Synth-pop\"],\n",
    "    \"tracks\": {\n",
    "        1: \"I Forgot That You Existed\",\n",
    "        2: \"Cruel Summer\",\n",
    "        3: \"Lover\",\n",
    "        4: \"The Man\",\n",
    "        5: \"The Archer\",\n",
    "        6: \"I Think He Knows\",\n",
    "        7: \"Miss Americana & The Heartbreak Prince\",\n",
    "        8: \"Paper Rings\",\n",
    "        9: \"Cornelia Street\",\n",
    "        10: \"Death By A Thousand Cuts\",\n",
    "        11: \"London Boy\",\n",
    "        12: \"Soon You'll Get Better (feat. Dixie Chicks)\",\n",
    "        13: \"False God\",\n",
    "        14: \"You Need To Calm Down\",\n",
    "        15: \"Afterglow\",\n",
    "        16: \"Me! (feat. Brendon Urie of Panic! At The Disco)\",\n",
    "        17: \"It's Nice To Have A Friend\",\n",
    "        18: \"Daylight\"\n",
    "    }\n",
    "}\n",
    "\n",
    "# What data structures do you see?\n",
<<<<<<< HEAD
    "# integer, string, list, dictionary\n",
=======
    "# Dictionary, list, string, integer\n",
    "#\n",
>>>>>>> 2308703e07a1a84926ae9d591590340f03dd06f7
    "\n",
    "# Printing the dictionary\n",
    "print(lover_album)"
   ]
  },
  {
   "cell_type": "code",
<<<<<<< HEAD
   "execution_count": 5,
=======
   "execution_count": 3,
>>>>>>> 2308703e07a1a84926ae9d591590340f03dd06f7
   "metadata": {},
   "outputs": [
    {
     "name": "stdout",
     "output_type": "stream",
     "text": [
      "{1: 'I Forgot That You Existed', 2: 'Cruel Summer', 3: 'Lover', 4: 'The Man', 5: 'The Archer', 6: 'I Think He Knows', 7: 'Miss Americana & The Heartbreak Prince', 8: 'Paper Rings', 9: 'Cornelia Street', 10: 'Death By A Thousand Cuts', 11: 'London Boy', 12: \"Soon You'll Get Better (feat. Dixie Chicks)\", 13: 'False God', 14: 'You Need To Calm Down', 15: 'Afterglow', 16: 'Me! (feat. Brendon Urie of Panic! At The Disco)', 17: \"It's Nice To Have A Friend\", 18: 'Daylight'}\n",
      "{1: 'I Forgot That You Existed', 2: 'Cruel Summer', 3: 'Lover', 4: 'The Man', 5: 'The Archer', 6: 'I Think He Knows', 7: 'Miss Americana & The Heartbreak Prince', 8: 'Paper Rings', 9: 'Cornelia Street', 10: 'Death By A Thousand Cuts', 11: 'London Boy', 12: \"Soon You'll Get Better (feat. Dixie Chicks)\", 13: 'False God', 14: 'You Need To Calm Down', 15: 'Afterglow', 16: 'Me! (feat. Brendon Urie of Panic! At The Disco)', 17: \"It's Nice To Have A Friend\", 18: 'Daylight'}\n"
     ]
    }
   ],
   "source": [
    "# Retrieve value from dictionary with key\n",
    "print(lover_album.get('tracks'))\n",
    "# or\n",
    "print(lover_album['tracks'])"
   ]
  },
  {
   "cell_type": "code",
<<<<<<< HEAD
   "execution_count": 6,
=======
   "execution_count": 4,
>>>>>>> 2308703e07a1a84926ae9d591590340f03dd06f7
   "metadata": {},
   "outputs": [
    {
     "name": "stdout",
     "output_type": "stream",
     "text": [
      "The Man\n",
      "The Man\n"
     ]
    }
   ],
   "source": [
    "# Retrieve value from a dictionary inside a dictionary\n",
    "print(lover_album.get('tracks')[4])\n",
    "# or\n",
    "print(lover_album['tracks'][4])"
   ]
  },
  {
   "cell_type": "code",
<<<<<<< HEAD
   "execution_count": 7,
=======
   "execution_count": 5,
>>>>>>> 2308703e07a1a84926ae9d591590340f03dd06f7
   "metadata": {},
   "outputs": [
    {
     "name": "stdout",
     "output_type": "stream",
     "text": [
<<<<<<< HEAD
      "{'title': 'Lover', 'artist': 'Taylor Swift', 'year': 2019, 'genre': ['Pop', 'Synth-pop'], 'tracks': {1: 'I Forgot That You Existed', 2: 'Cruel Summer', 3: 'Lover', 4: 'The Man', 5: 'The Archer', 6: 'I Think He Knows', 7: 'Miss Americana & The Heartbreak Prince', 8: 'Paper Rings', 9: 'Cornelia Street', 10: 'Death By A Thousand Cuts', 11: 'London Boy', 12: \"Soon You'll Get Better (feat. Dixie Chicks)\", 13: 'False God', 14: 'You Need To Calm Down', 15: 'Afterglow', 16: 'Me! (feat. Brendon Urie of Panic! At The Disco)', 17: \"It's Nice To Have A Friend\", 18: 'Daylight'}, 'producer': {'Joel Little', 'Louis Bell', 'Taylor Swift', 'Frank Dukes', 'Jack Antonoff'}}\n"
=======
      "{'title': 'Lover', 'artist': 'Taylor Swift', 'year': 2019, 'genre': ['Pop', 'Synth-pop'], 'tracks': {1: 'I Forgot That You Existed', 2: 'Cruel Summer', 3: 'Lover', 4: 'The Man', 5: 'The Archer', 6: 'I Think He Knows', 7: 'Miss Americana & The Heartbreak Prince', 8: 'Paper Rings', 9: 'Cornelia Street', 10: 'Death By A Thousand Cuts', 11: 'London Boy', 12: \"Soon You'll Get Better (feat. Dixie Chicks)\", 13: 'False God', 14: 'You Need To Calm Down', 15: 'Afterglow', 16: 'Me! (feat. Brendon Urie of Panic! At The Disco)', 17: \"It's Nice To Have A Friend\", 18: 'Daylight'}, 'producer': {'Taylor Swift', 'Joel Little', 'Louis Bell', 'Jack Antonoff', 'Frank Dukes'}}\n"
>>>>>>> 2308703e07a1a84926ae9d591590340f03dd06f7
     ]
    }
   ],
   "source": [
    "# adding a value with a new key\n",
<<<<<<< HEAD
    "lover_album[\"producer\"] = set(['Taylor Swift', 'Jack Antonoff', 'Joel Little', 'Taylor Swift', 'Louis Bell', 'Frank Dukes'])\n",
    "\n",
    "# What can you change to make sure there are no duplicate producers?\n",
    "# add a set() function to the value of the key \"producer\"\n",
=======
    "# lover_album[\"producer\"] = ['Taylor Swift', 'Jack Antonoff', 'Joel Little', 'Taylor Swift', 'Louis Bell', 'Frank Dukes']\n",
    "\n",
    "# What can you change to make sure there are no duplicate producers?\n",
    "# add a set() function\n",
    "#\n",
    "producers = set(['Taylor Swift', 'Jack Antonoff', 'Joel Little', 'Taylor Swift', 'Louis Bell', 'Frank Dukes'])\n",
    "lover_album[\"producer\"] = producers\n",
>>>>>>> 2308703e07a1a84926ae9d591590340f03dd06f7
    "\n",
    "# Printing the dictionary\n",
    "print(lover_album)"
   ]
  },
  {
   "cell_type": "code",
<<<<<<< HEAD
   "execution_count": 9,
=======
   "execution_count": 6,
>>>>>>> 2308703e07a1a84926ae9d591590340f03dd06f7
   "metadata": {},
   "outputs": [
    {
     "name": "stdout",
     "output_type": "stream",
     "text": [
<<<<<<< HEAD
      "{'title': 'Lover', 'artist': 'Taylor Swift', 'year': 2019, 'genre': ['Pop', 'Synth-pop', 'electropop', 'electropop'], 'tracks': {1: 'I Forgot That You Existed', 2: 'Cruel Summer', 3: 'Lover', 4: 'The Man', 5: 'The Archer', 6: 'I Think He Knows', 7: 'Miss Americana & The Heartbreak Prince', 8: 'Paper Rings', 9: 'Cornelia Street', 10: 'Death By A Thousand Cuts', 11: 'London Boy', 12: \"Soon You'll Get Better (feat. Dixie Chicks)\", 13: 'False God', 14: 'You Need To Calm Down', 15: 'Afterglow', 16: 'Me! (feat. Brendon Urie of Panic! At The Disco)', 17: \"It's Nice To Have A Friend\", 18: 'Daylight', 19: 'All Of The Girls You Loved Before'}, 'producer': {'Joel Little', 'Louis Bell', 'Taylor Swift', 'Frank Dukes', 'Jack Antonoff'}}\n"
=======
      "{'title': 'Lover', 'artist': 'Taylor Swift', 'year': 2019, 'genre': ['Pop', 'Synth-pop', 'electropop'], 'tracks': {1: 'I Forgot That You Existed', 2: 'Cruel Summer', 3: 'Lover', 4: 'The Man', 5: 'The Archer', 6: 'I Think He Knows', 7: 'Miss Americana & The Heartbreak Prince', 8: 'Paper Rings', 9: 'Cornelia Street', 10: 'Death By A Thousand Cuts', 11: 'London Boy', 12: \"Soon You'll Get Better (feat. Dixie Chicks)\", 13: 'False God', 14: 'You Need To Calm Down', 15: 'Afterglow', 16: 'Me! (feat. Brendon Urie of Panic! At The Disco)', 17: \"It's Nice To Have A Friend\", 18: 'Daylight', 19: 'All Of The Girls You Loved Before'}, 'producer': {'Taylor Swift', 'Joel Little', 'Louis Bell', 'Jack Antonoff', 'Frank Dukes'}}\n"
>>>>>>> 2308703e07a1a84926ae9d591590340f03dd06f7
     ]
    }
   ],
   "source": [
    "# Adding a an key-value pair to an existing key \n",
    "lover_album[\"tracks\"].update({19: \"All Of The Girls You Loved Before\"})\n",
<<<<<<< HEAD
    "lover_album[\"genre\"].append(\"electropop\")\n",
    "\n",
    "# How would add an additional genre to the dictionary, like electropop? \n",
    "# by using the .append() function and adding a new value to the key \"genre\"\n",
    "# \n",
    "\n",
=======
    "\n",
    "# How would add an additional genre to the dictionary, like electropop? \n",
    "# append() function\n",
    "# \n",
    "\n",
    "lover_album[\"genre\"].append(\"electropop\")\n",
    "\n",
>>>>>>> 2308703e07a1a84926ae9d591590340f03dd06f7
    "# Printing the dictionary\n",
    "print(lover_album)"
   ]
  },
  {
   "cell_type": "code",
<<<<<<< HEAD
   "execution_count": 10,
=======
   "execution_count": 31,
>>>>>>> 2308703e07a1a84926ae9d591590340f03dd06f7
   "metadata": {},
   "outputs": [
    {
     "name": "stdout",
     "output_type": "stream",
     "text": [
      "title: Lover\n",
      "artist: Taylor Swift\n",
      "year: 2019\n",
<<<<<<< HEAD
      "genre: ['Pop', 'Synth-pop', 'electropop', 'electropop']\n",
      "tracks: {1: 'I Forgot That You Existed', 2: 'Cruel Summer', 3: 'Lover', 4: 'The Man', 5: 'The Archer', 6: 'I Think He Knows', 7: 'Miss Americana & The Heartbreak Prince', 8: 'Paper Rings', 9: 'Cornelia Street', 10: 'Death By A Thousand Cuts', 11: 'London Boy', 12: \"Soon You'll Get Better (feat. Dixie Chicks)\", 13: 'False God', 14: 'You Need To Calm Down', 15: 'Afterglow', 16: 'Me! (feat. Brendon Urie of Panic! At The Disco)', 17: \"It's Nice To Have A Friend\", 18: 'Daylight', 19: 'All Of The Girls You Loved Before'}\n",
      "producer: {'Joel Little', 'Louis Bell', 'Taylor Swift', 'Frank Dukes', 'Jack Antonoff'}\n",
      "\n",
      "=====================================\n",
      "\n",
      "title: Lover\n",
      "artist: Taylor Swift\n",
      "year: 2019\n",
      "Genres: Pop, Synth-pop, electropop, electropop\n",
      "Tracks:\n",
      "1. I Forgot That You Existed\n",
      "2. Cruel Summer\n",
      "3. Lover\n",
      "4. The Man\n",
      "5. The Archer\n",
      "6. I Think He Knows\n",
      "7. Miss Americana & The Heartbreak Prince\n",
      "8. Paper Rings\n",
      "9. Cornelia Street\n",
      "10. Death By A Thousand Cuts\n",
      "11. London Boy\n",
      "12. Soon You'll Get Better (feat. Dixie Chicks)\n",
      "13. False God\n",
      "14. You Need To Calm Down\n",
      "15. Afterglow\n",
      "16. Me! (feat. Brendon Urie of Panic! At The Disco)\n",
      "17. It's Nice To Have A Friend\n",
      "18. Daylight\n",
      "19. All Of The Girls You Loved Before\n",
      "Producers: Joel Little, Louis Bell, Taylor Swift, Frank Dukes, Jack Antonoff\n"
=======
      "genres: \n",
      "Pop\n",
      "Synth-pop\n",
      "electropop\n",
      "tracks: \n",
      "1: I Forgot That You Existed\n",
      "2: Cruel Summer\n",
      "3: Lover\n",
      "4: The Man\n",
      "5: The Archer\n",
      "6: I Think He Knows\n",
      "7: Miss Americana & The Heartbreak Prince\n",
      "8: Paper Rings\n",
      "9: Cornelia Street\n",
      "10: Death By A Thousand Cuts\n",
      "11: London Boy\n",
      "12: Soon You'll Get Better (feat. Dixie Chicks)\n",
      "13: False God\n",
      "14: You Need To Calm Down\n",
      "15: Afterglow\n",
      "16: Me! (feat. Brendon Urie of Panic! At The Disco)\n",
      "17: It's Nice To Have A Friend\n",
      "18: Daylight\n",
      "19: All Of The Girls You Loved Before\n",
      "producers: \n",
      "Taylor Swift\n",
      "Joel Little\n",
      "Louis Bell\n",
      "Jack Antonoff\n",
      "Frank Dukes\n"
>>>>>>> 2308703e07a1a84926ae9d591590340f03dd06f7
     ]
    }
   ],
   "source": [
    "# Print lover_album in more readable format\n",
<<<<<<< HEAD
    "for k,v in lover_album.items(): # iterate using a for loop for key and value\n",
    "    print(str(k) + \": \" + str(v))\n",
    "\n",
    "print(\"\")\n",
    "print(\"=====================================\")\n",
    "print(\"\")\n",
    "\n",
    "# Write your own code to print tracks in readable format\n",
    "\n",
    "for k,v in lover_album.items(): # iterate using a for loop for key and value\n",
    "    if k == \"genre\":\n",
    "        print(\"Genres\" + \": \" + \", \".join(v))\n",
    "    elif k == \"tracks\":\n",
    "        print(\"Tracks:\")\n",
    "        for n,s in v.items():\n",
    "            print(str(n) + \". \" + str(s))\n",
    "    elif k == \"producer\":\n",
    "        print(\"Producers\" + \": \" + \", \".join(v))\n",
    "    else:\n",
    "        print(str(k) + \": \" + str(v))"
=======
    "# for k,v in lover_album.items(): # iterate using a for loop for key and value\n",
    "#     print(str(k) + \": \" + str(v))\n",
    "\n",
    "# Write your own code to print tracks in readable format\n",
    "#\n",
    "#\n",
    "\n",
    "for k,v in lover_album.items():\n",
    "    if k == 'title':\n",
    "        print(str(k) + \": \" + str(v))\n",
    "    elif k == 'artist':\n",
    "        print(str(k) + \": \" + str(v))\n",
    "    elif k == 'year':\n",
    "        print(str(k) + \": \" + str(v))\n",
    "    elif k == 'genre':\n",
    "        print(str(k) + \"s: \")\n",
    "        for genre in v:\n",
    "            print(genre)\n",
    "    elif k == 'tracks':\n",
    "        print(str(k) + \": \")\n",
    "        for track in v:\n",
    "            print(str(track) + \": \" + str(v[track]))\n",
    "    elif k == 'producer':\n",
    "        print(str(k) + \"s: \")\n",
    "        for producer in v:\n",
    "            print(producer)"
>>>>>>> 2308703e07a1a84926ae9d591590340f03dd06f7
   ]
  },
  {
   "cell_type": "code",
<<<<<<< HEAD
   "execution_count": null,
   "metadata": {},
   "outputs": [],
   "source": []
  },
  {
   "cell_type": "code",
   "execution_count": 11,
=======
   "execution_count": 39,
>>>>>>> 2308703e07a1a84926ae9d591590340f03dd06f7
   "metadata": {},
   "outputs": [
    {
     "name": "stdout",
     "output_type": "stream",
     "text": [
      "title: Lover\n",
      "artist: Taylor Swift\n",
      "year: 2019\n",
<<<<<<< HEAD
      "Genres: Pop, Synth-pop, electropop, electropop\n",
      "Tracks:\n",
      "1. I Forgot That You Existed\n",
      "2. Cruel Summer\n",
      "3. Lover\n",
      "4. The Man\n",
      "5. The Archer\n",
      "6. I Think He Knows\n",
      "7. Miss Americana & The Heartbreak Prince\n",
      "8. Paper Rings\n",
      "9. Cornelia Street\n",
      "10. Death By A Thousand Cuts\n",
      "11. London Boy\n",
      "12. Soon You'll Get Better (feat. Dixie Chicks)\n",
      "13. False God\n",
      "14. You Need To Calm Down\n",
      "15. Afterglow\n",
      "16. Me! (feat. Brendon Urie of Panic! At The Disco)\n",
      "17. It's Nice To Have A Friend\n",
      "18. Daylight\n",
      "19. All Of The Girls You Loved Before\n",
      "Producers: Joel Little, Louis Bell, Taylor Swift, Frank Dukes, Jack Antonoff\n",
      "Goodbye\n"
=======
      "genres: \n",
      "Pop\n",
      "Synth-pop\n",
      "electropop\n",
      "tracks: \n",
      "1: I Forgot That You Existed\n",
      "2: Cruel Summer\n",
      "3: Lover\n",
      "4: The Man\n",
      "5: The Archer\n",
      "6: I Think He Knows\n",
      "7: Miss Americana & The Heartbreak Prince\n",
      "8: Paper Rings\n",
      "9: Cornelia Street\n",
      "10: Death By A Thousand Cuts\n",
      "11: London Boy\n",
      "12: Soon You'll Get Better (feat. Dixie Chicks)\n",
      "13: False God\n",
      "14: You Need To Calm Down\n",
      "15: Afterglow\n",
      "16: Me! (feat. Brendon Urie of Panic! At The Disco)\n",
      "17: It's Nice To Have A Friend\n",
      "18: Daylight\n",
      "19: All Of The Girls You Loved Before\n",
      "producers: \n",
      "Taylor Swift\n",
      "Joel Little\n",
      "Louis Bell\n",
      "Jack Antonoff\n",
      "Frank Dukes\n",
      "Invalid Search\n"
>>>>>>> 2308703e07a1a84926ae9d591590340f03dd06f7
     ]
    }
   ],
   "source": [
    "# Using conditionals to retrieve a random song\n",
<<<<<<< HEAD
    "def search():\n",
    "    query = input(\"What would you like to know about the album? [title, artist, year, genre, tracks, producer] type q to quit\")\n",
    "    if query == \"q\":\n",
    "        print(\"Goodbye\")\n",
    "        return\n",
    "    elif lover_album.get(query.lower()) == None:\n",
    "        print(\"Invalid Search\")\n",
    "    else:\n",
    "        v = lover_album.get(query.lower())\n",
    "        if query == \"genre\":\n",
    "            print(\"Genres\" + \": \" + \", \".join(v))\n",
    "        elif query == \"tracks\":\n",
    "            print(\"Tracks:\")\n",
    "            for n,s in v.items():\n",
    "                print(str(n) + \". \" + str(s))\n",
    "        elif query == \"producer\":\n",
    "            print(\"Producers\" + \": \" + \", \".join(v))\n",
    "        else:\n",
    "            print(str(query) + \": \" + str(v))\n",
    "    search()\n",
    "\n",
    "search()\n",
    "\n",
    "# This is a very basic code segment, how can you improve upon this code?\n",
    "#\n",
    "#"
=======
    "#def search():\n",
    "#    search = input(\"What would you like to know about the album?\")\n",
    "#    if lover_album.get(search.lower()) == None:\n",
    "#        print(\"Invalid Search\")\n",
    "#    else:\n",
    "#        print(lover_album.get(search.lower()))\n",
    "#\n",
    "#search()\n",
    "\n",
    "# This is a very basic code segment, how can you improve upon this code?\n",
    "#\n",
    "#\n",
    "def search():\n",
    "    usersearch = input(\"What would you like to know about the album? (q to quit)\")\n",
    "    if lover_album.get(usersearch.lower()) == None:\n",
    "        if usersearch.lower() == 'q':\n",
    "            print(\"Goodbye!\")\n",
    "            return 0\n",
    "        else:\n",
    "            print(\"Invalid Search\")\n",
    "            return 1\n",
    "    else:\n",
    "        k = usersearch.lower()\n",
    "        v = lover_album.get(k)\n",
    "        if k == 'title':\n",
    "            print(str(k) + \": \" + str(v))\n",
    "        elif k == 'artist':\n",
    "            print(str(k) + \": \" + str(v))\n",
    "        elif k == 'year':\n",
    "            print(str(k) + \": \" + str(v))\n",
    "        elif k == 'genre':\n",
    "            print(str(k) + \"s: \")\n",
    "            for genre in v:\n",
    "                print(genre)\n",
    "        elif k == 'tracks':\n",
    "            print(str(k) + \": \")\n",
    "            for track in v:\n",
    "                print(str(track) + \": \" + str(v[track]))\n",
    "        elif k == 'producer':\n",
    "            print(str(k) + \"s: \")\n",
    "            for producer in v:\n",
    "                print(producer)\n",
    "        search()\n",
    "\n",
    "search()"
>>>>>>> 2308703e07a1a84926ae9d591590340f03dd06f7
   ]
  },
  {
   "attachments": {},
   "cell_type": "markdown",
   "metadata": {},
   "source": [
    "## Hacks\n",
    "\n",
    "- Answer *ALL* questions in the code segments\n",
    "- Create a diagram or comparison illustration (Canva).\n",
    "    - What are the pro and cons of using this data structure? \n",
    "    - Dictionary vs List    \n",
    "- Expand upon the code given to you, possible improvements in comments\n",
    "- Build your own album showing features of a python dictionary\n",
    "\n",
    "- For Mr. Yeung's class: Justify your favorite Taylor Swift song, answer may effect seed"
   ]
  },
  {
<<<<<<< HEAD
   "attachments": {},
   "cell_type": "markdown",
   "metadata": {},
   "source": [
    "# hacks\n"
=======
   "cell_type": "code",
   "execution_count": 48,
   "metadata": {},
   "outputs": [
    {
     "name": "stdout",
     "output_type": "stream",
     "text": [
      "title: Heroes and Vilians\n",
      "artist: Metro Boomin\n",
      "year: 2022\n",
      "genres: \n",
      "Rap\n",
      "tracks: \n",
      "1: On Time\n",
      "2: Superhero\n",
      "3: Too Many Nights\n",
      "4: Raindrops (Insane)\n",
      "5: Umbrella\n",
      "6: Trance\n",
      "7: Around Me\n",
      "8: Metro Spider\n",
      "9: I Cant Save You (Interlude)\n",
      "10: Creepin\n",
      "11: Niagra Falls (Foot or 2)\n",
      "12: Walk Em Down (Don't Kill Civilians)\n",
      "13: Lock On Me\n",
      "14: Feel the Fiyaaah\n",
      "15: All The Money\n",
      "producers: \n",
      "Metro Boomin\n",
      "Travis Scott\n"
     ]
    }
   ],
   "source": [
    "HeroesandVilians_album = {\n",
    "    \"title\": \"Heroes and Vilians\",\n",
    "    \"artist\": \"Metro Boomin\",\n",
    "    \"year\": 2022,\n",
    "    \"genre\": [\"Rap\"],\n",
    "    \"tracks\": {\n",
    "        1: \"On Time\",\n",
    "        2: \"Superhero\",\n",
    "        3: \"Too Many Nights\",\n",
    "        4: \"Raindrops (Insane)\",\n",
    "        5: \"Umbrella\",\n",
    "        6: \"Trance\",\n",
    "        7: \"Around Me\",\n",
    "        8: \"Metro Spider\",\n",
    "        9: \"I Cant Save You (Interlude)\",\n",
    "        10: \"Creepin\",\n",
    "        11: \"Niagra Falls (Foot or 2)\",\n",
    "        12: \"Walk Em Down (Don't Kill Civilians)\",\n",
    "        13: \"Lock On Me\",\n",
    "        14: \"Feel the Fiyaaah\",\n",
    "        15: \"All The Money\"\n",
    "    },\n",
    "    \"producer\": [\"Metro Boomin\", \"Travis Scott\"]\n",
    "}\n",
    "\n",
    "for k,v in HeroesandVilians_album.items():\n",
    "    if k == 'title':\n",
    "        print(str(k) + \": \" + str(v))\n",
    "    elif k == 'artist':\n",
    "        print(str(k) + \": \" + str(v))\n",
    "    elif k == 'year':\n",
    "        print(str(k) + \": \" + str(v))\n",
    "    elif k == 'genre':\n",
    "        print(str(k) + \"s: \")\n",
    "        for genre in v:\n",
    "            print(genre)\n",
    "    elif k == 'tracks':\n",
    "        print(str(k) + \": \")\n",
    "        for track in v:\n",
    "            print(str(track) + \": \" + str(v[track]))\n",
    "    elif k == 'producer':\n",
    "        print(str(k) + \"s: \")\n",
    "        for producer in v:\n",
    "            print(producer)"
>>>>>>> 2308703e07a1a84926ae9d591590340f03dd06f7
   ]
  }
 ],
 "metadata": {
  "kernelspec": {
<<<<<<< HEAD
   "display_name": "Python 3",
=======
   "display_name": "base",
>>>>>>> 2308703e07a1a84926ae9d591590340f03dd06f7
   "language": "python",
   "name": "python3"
  },
  "language_info": {
   "codemirror_mode": {
    "name": "ipython",
    "version": 3
   },
   "file_extension": ".py",
   "mimetype": "text/x-python",
   "name": "python",
   "nbconvert_exporter": "python",
   "pygments_lexer": "ipython3",
<<<<<<< HEAD
   "version": "3.9.6"
  },
  "orig_nbformat": 4,
  "vscode": {
   "interpreter": {
    "hash": "31f2aee4e71d21fbe5cf8b01ff0e069b9275f58929596ceb00d14d90e3e16cd6"
   }
  }
=======
   "version": "3.9.12"
  },
  "orig_nbformat": 4
>>>>>>> 2308703e07a1a84926ae9d591590340f03dd06f7
 },
 "nbformat": 4,
 "nbformat_minor": 2
}
