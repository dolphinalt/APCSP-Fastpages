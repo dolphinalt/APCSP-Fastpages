{
 "cells": [
  {
   "cell_type": "markdown",
   "metadata": {},
   "source": [
    "# Fastpages jupyter notebook test for APCSP\n",
    "> making a jupyter notebook on fastpages to test.\n",
    "\n",
    "- toc: true \n",
    "- badges: true\n",
    "- comments: true\n",
    "- categories: [jupyter]"
   ]
  },
  {
   "cell_type": "markdown",
   "metadata": {},
   "source": [
    "# Python addition calculator"
   ]
  },
  {
   "cell_type": "code",
   "execution_count": 3,
   "metadata": {},
   "outputs": [
    {
     "name": "stdout",
     "output_type": "stream",
     "text": [
      "1+2=3\n"
     ]
    }
   ],
   "source": [
    "a=input(\"enter number 1: \")\n",
    "b=input(\"enter number 2: \")\n",
    "\n",
    "try:\n",
    "    a=int(a)\n",
    "    pass\n",
    "except:\n",
    "    print(\"Please enter a number!\")\n",
    "    exit()\n",
    "\n",
    "try:\n",
    "    b=int(b)\n",
    "    pass\n",
    "except:\n",
    "    print(\"Please enter a number!\")\n",
    "    exit()\n",
    "\n",
    "print(f\"{a}+{b}={a+b}\")"
   ]
  }
 ],
 "metadata": {
  "kernelspec": {
   "display_name": "Python 3.8.9 64-bit",
   "language": "python",
   "name": "python3"
  },
  "language_info": {
   "codemirror_mode": {
    "name": "ipython",
    "version": 3
   },
   "file_extension": ".py",
   "mimetype": "text/x-python",
   "name": "python",
   "nbconvert_exporter": "python",
   "pygments_lexer": "ipython3",
   "version": "3.8.9"
  },
  "orig_nbformat": 4,
  "vscode": {
   "interpreter": {
    "hash": "31f2aee4e71d21fbe5cf8b01ff0e069b9275f58929596ceb00d14d90e3e16cd6"
   }
  }
 },
 "nbformat": 4,
 "nbformat_minor": 2
}
