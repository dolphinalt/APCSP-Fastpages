{
 "cells": [
  {
   "cell_type": "markdown",
   "metadata": {},
   "source": [
    "# Note Template\n",
    "- comments: true"
   ]
  },
  {
   "cell_type": "markdown",
   "metadata": {},
   "source": [
    "# Take some additional notes that you would like here for 3.12 and 3.13. We will be looking for additional notes from the presentation. \n"
   ]
  },
  {
   "cell_type": "markdown",
   "metadata": {},
   "source": [
    "# What are procedures?\n",
    "\n",
    "**Fill in the blanks please:**\n",
    "\n",
    "Procedure: a named group of programming instructions that may have parameters and return values.\n",
    "\n",
    "Parameters: are input values of a procedure\n",
    "\n",
    "Arguments: specify the values of the parameters when a procedure is called\n",
    "\n",
    "Modularity: specify the values of the parameters when a procedure is called\n",
    "\n",
    "Procedural Abstraction: a process that allows a procedure to be used only knowing *WHAT* it does, not *HOW* it does it\n",
    "\n",
    "What are some other names for procedures?: method or function\n",
    "\n",
    "Why are procedures effective?: reduces the complexity and amount of code present\n"
   ]
  },
  {
   "attachments": {},
   "cell_type": "markdown",
   "metadata": {},
   "source": [
    "## <mark>Challenge 1</mark> below: Add the command that will **call** the procedure. "
   ]
  },
  {
   "cell_type": "code",
   "execution_count": 1,
   "metadata": {},
   "outputs": [
    {
     "name": "stdout",
     "output_type": "stream",
     "text": [
      "1100000\n"
     ]
    }
   ],
   "source": [
    "decimal = 7\n",
    "\n",
    "def convertToBinary(n):\n",
    "    n=int(n)\n",
    "    n=bin(n)\n",
    "    return n[2:]\n",
    "binary=convertToBinary(96)\n",
    "print(binary)"
   ]
  },
  {
   "attachments": {},
   "cell_type": "markdown",
   "metadata": {},
   "source": [
    "## <mark>Challenge 2</mark> below: Complete the Min and Max procedure in either JavaScript and Python using the instructions from the JavaScript page. (JavaScript will get you a extra 0.1)"
   ]
  },
  {
   "cell_type": "code",
   "execution_count": null,
   "metadata": {
    "vscode": {
     "languageId": "javascript"
    }
   },
   "outputs": [],
   "source": [
    "Array.prototype.max = function() {\n",
    "    return Math.max.apply(null, this);\n",
    "};\n",
    "  \n",
    "Array.prototype.min = function() {\n",
    "    return Math.min.apply(null, this);\n",
    "};\n",
    "\n",
    "function maxMin(array, operation) {\n",
    "    var res = \"Error: invalid input(s)\"\n",
    "    if (operation == \"max\") {\n",
    "        res = array.max()\n",
    "    } else if (operation == \"min\") {\n",
    "        res = array.min()\n",
    "    }\n",
    "    return res\n",
    "}\n",
    "\n",
    "var array = [1, 3, 5, 2, 4, 6]\n",
    "var res = maxMin(array, \"max\")\n",
    "console.log(\"Maximum of array \" + array + \" -> \" + res)\n",
    "var res = maxMin(array, \"min\")\n",
    "console.log(\"Minimum of array \" + array + \" -> \" + res)\n",
    "\n",
    "var array = [35, 2, 65, 7, 8, 9, 12, 121, 33, 99]\n",
    "var res = maxMin(array, \"max\")\n",
    "console.log(\"Maximum of array \" + array + \" -> \" + res)\n",
    "var res = maxMin(array, \"min\")\n",
    "console.log(\"Minimum of array \" + array + \" -> \" + res)"
   ]
  },
  {
   "cell_type": "markdown",
   "metadata": {},
   "source": [
    "i can't run javascript on my notebook but here is the expected result:\n",
    "\n",
    "```js\n",
    "APCSP-Fastpages-1/javascript on  master [?] via ⬢ v16.17.0 via 🅒 base \n",
    "➜ node maxMin.js\n",
    "Maximum of array 1,3,5,2,4,6 -> 6\n",
    "Minimum of array 1,3,5,2,4,6 -> 1\n",
    "Maximum of array 35,2,65,7,8,9,12,121,33,99 -> 121\n",
    "Minimum of array 35,2,65,7,8,9,12,121,33,99 -> 2\n",
    "```"
   ]
  },
  {
   "attachments": {},
   "cell_type": "markdown",
   "metadata": {},
   "source": [
    "## <mark>Homework/Hacks</mark>: For the hw, you have two options, easy or hard. The easy hack is for a 2.7 + extra work for the full 3. The easy hack is simply creating your own procedure with your own creativity. Since there is a lot of leeway for this one, you must do additional work to get a 3. For the hard hack, below is the start to a character to binary convertor. This is just a template, but the goal is to translate \"APCSP\" into binary. You can delete the existing code if you want. The only contraint is that you must use a procedure. Doing this will get you a 3. "
   ]
  },
  {
   "cell_type": "code",
   "execution_count": 10,
   "metadata": {},
   "outputs": [
    {
     "name": "stdout",
     "output_type": "stream",
     "text": [
      "['01000001', '01010000', '01000011', '01010011', '01010000']\n"
     ]
    }
   ],
   "source": [
    "def charToBinary(x):\n",
    "    output = []\n",
    "    for char in x:\n",
    "        decimal = ord(char)\n",
    "        binary = bin(decimal)\n",
    "        binary = (binary)[2:]\n",
    "        output.append(f\"0{binary}\")\n",
    "    return output\n",
    "\n",
    "binary_output = charToBinary(\"APCSP\")\n",
    "\n",
    "print(binary_output)\n",
    "\n",
    "\n",
    "# The output shown below is the output you are supposed to get"
   ]
  }
 ],
 "metadata": {
  "kernelspec": {
   "display_name": "Python 3.9.6 64-bit",
   "language": "python",
   "name": "python3"
  },
  "language_info": {
   "codemirror_mode": {
    "name": "ipython",
    "version": 3
   },
   "file_extension": ".py",
   "mimetype": "text/x-python",
   "name": "python",
   "nbconvert_exporter": "python",
   "pygments_lexer": "ipython3",
   "version": "3.9.6"
  },
  "orig_nbformat": 4,
  "vscode": {
   "interpreter": {
    "hash": "31f2aee4e71d21fbe5cf8b01ff0e069b9275f58929596ceb00d14d90e3e16cd6"
   }
  }
 },
 "nbformat": 4,
 "nbformat_minor": 2
}
