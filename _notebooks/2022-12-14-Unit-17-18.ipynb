{
 "cells": [
  {
   "attachments": {},
   "cell_type": "markdown",
   "metadata": {},
   "source": [
    "# 3.17 - 3.18\n",
    "- title: Homework 3.17 - 3.18\n",
    "- permalink: /homework1718"
   ]
  },
  {
   "attachments": {},
   "cell_type": "markdown",
   "metadata": {},
   "source": [
    "# 3.17 Algorithmic Efficiency"
   ]
  },
  {
   "attachments": {},
   "cell_type": "markdown",
   "metadata": {},
   "source": [
    "## Vocabulary\n",
    "- Problem:\n",
    "    - Decision Problem:\n",
    "    - Organization Problem:\n",
    "- Instance:\n",
    "- Efficiency:\n",
    "    - Polynomial Efficiency (Good):\n",
    "    - Exponential Efficiency (Bad):\n",
    "- Heuristic Approach:\n",
    "- Decidable Problem:\n",
    "- Undecidable Problem:\n"
   ]
  },
  {
   "attachments": {},
   "cell_type": "markdown",
   "metadata": {},
   "source": [
    "## Notes\n",
    "- Decision problem - finding an answer\n",
    "- instance - a decision problem with an input\n",
    "- efficiency, how much a computer needs to solve a problem.\n",
    "- simplest solution\n",
    "- polynomial efficiency (good)\n",
    "- exponential efficiency (bad)\n",
    "- decided problem - decision problem solved\n",
    "- undecided problem - decision problem not solved"
   ]
  },
  {
   "attachments": {},
   "cell_type": "markdown",
   "metadata": {},
   "source": [
    "## Challenge\n",
    "Try and fix this ineficcient code!\n",
    "Only change the code between the two commented lines.\n",
    "Fully programmed solution will improve your grade, at a minimum show that you tried."
   ]
  },
  {
   "cell_type": "code",
   "execution_count": 15,
   "metadata": {},
   "outputs": [
    {
     "name": "stdout",
     "output_type": "stream",
     "text": [
      "1.1119401454925537 seconds\n",
      "0.8105871677398682 seconds\n",
      "0.3999779224395752 seconds\n"
     ]
    }
   ],
   "source": [
    "# 6.9s before changes\n",
    "# 1.1s after changes\n",
    "# 0.8s for \"evenFaster\"\n",
    "# 0.4s for \"stupidFast\"\n",
    "import time\n",
    "\n",
    "numlist = [1,3,5,7,9,11,13,15,17,19]\n",
    "valuelist = [0,3,6,9,12,15,18,21]\n",
    "def isvalue(value,array):\n",
    "    low = 0\n",
    "    high = len(array)-1\n",
    "    while high >= low:\n",
    "        mid = (high + low) // 2\n",
    "        if array[mid] == value:\n",
    "            return mid\n",
    "        elif array[mid] > value:\n",
    "            high = mid-1\n",
    "        else:\n",
    "            low = mid+1\n",
    "    else:\n",
    "        return False\n",
    "def evenFaster(value,array):\n",
    "    for a in numlist:\n",
    "        for b in valuelist:\n",
    "            if a == b:\n",
    "                return True\n",
    "    return False\n",
    "def stupidFast(value,array):\n",
    "    return True if value in array else False\n",
    "def LMAO(value,array):\n",
    "    return True if value in array else False\n",
    "starttime = time.time()\n",
    "for i in range(100000):\n",
    "    for i in range(len(valuelist)):\n",
    "        isvalue(valuelist[i],numlist)\n",
    "endtime = time.time()\n",
    "print(endtime-starttime,'seconds')\n",
    "\n",
    "starttime = time.time()\n",
    "for i in range(100000):\n",
    "    for i in range(len(valuelist)):\n",
    "        evenFaster(valuelist[i],numlist)\n",
    "endtime = time.time()\n",
    "print(endtime-starttime,'seconds') \n",
    "\n",
    "starttime = time.time()\n",
    "for i in range(100000):\n",
    "    for i in range(len(valuelist)):\n",
    "        stupidFast(valuelist[i],numlist)\n",
    "endtime = time.time()\n",
    "print(endtime-starttime,'seconds')"
   ]
  },
  {
   "attachments": {},
   "cell_type": "markdown",
   "metadata": {},
   "source": [
    "# 3.18 Undecidable Problems"
   ]
  },
  {
   "attachments": {},
   "cell_type": "markdown",
   "metadata": {},
   "source": [
    "## Notes\n",
    "- _"
   ]
  },
  {
   "attachments": {},
   "cell_type": "markdown",
   "metadata": {},
   "source": [
    "# Homework!\n",
    "\n",
    "Make an algorithm that finds the fastest route that hits every location once starting and ending at Del Norte. Make sure to show your thinking. If you are strugling, try using a huristic approach. Remember, what matters more than having perfectly functioning code is that you tried your hardest."
   ]
  },
  {
   "cell_type": "code",
   "execution_count": 3,
   "metadata": {},
   "outputs": [],
   "source": [
    "# RUN THIS CODE --- DO NOT EDIT\n",
    "dataset = {\n",
    "    'DelNorte':{\n",
    "        'Westview':15,\n",
    "        'MtCarmel':20,\n",
    "        'Poway':35,\n",
    "        'RanchoBernrdo':50\n",
    "    },\n",
    "    'Westview':{\n",
    "        'Del Norte':15,\n",
    "        'MtCarmel':35,\n",
    "        'Poway':25,\n",
    "        'RanchoBernrdo': 45\n",
    "    },\n",
    "    'MtCarmel':{\n",
    "        'Westview':35,\n",
    "        'Del Norte':20,\n",
    "        'Poway':40,\n",
    "        'RanchoBernrdo':30\n",
    "    },\n",
    "    'Poway':{\n",
    "        'Westview':25,\n",
    "        'MtCarmel':40,\n",
    "        'Del Norte':35,\n",
    "        'RanchoBernrdo':15\n",
    "    },\n",
    "    'RanchoBernardo':{\n",
    "        'Westview':45,\n",
    "        'MtCarmel':30,\n",
    "        'Poway':15,\n",
    "        'Del Norte':50\n",
    "    }\n",
    "}"
   ]
  },
  {
   "cell_type": "code",
   "execution_count": null,
   "metadata": {},
   "outputs": [],
   "source": [
    "def fastestroute(start,data):\n",
    "    drivetime = 0\n",
    "    order = []\n",
    "    #CODE,CODE,CODE\n",
    "    return(drivetime,order)\n",
    "\n",
    "start = 'DelNorte'\n",
    "# 'dataset' is the name of the nested key value pair"
   ]
  },
  {
   "attachments": {},
   "cell_type": "markdown",
   "metadata": {},
   "source": [
    "### Grading:\n",
    "|Challenge|Homework|\n",
    "|---|---|\n",
    "|.15 pts for attempt|.65 for attempt|\n",
    "|.20 pts for complete|.70 for complete|\n",
    "|.25 pts for above and beyond|.75 pts for above and beyond|\n"
   ]
  }
 ],
 "metadata": {
  "kernelspec": {
   "display_name": "base",
   "language": "python",
   "name": "python3"
  },
  "language_info": {
   "codemirror_mode": {
    "name": "ipython",
    "version": 3
   },
   "file_extension": ".py",
   "mimetype": "text/x-python",
   "name": "python",
   "nbconvert_exporter": "python",
   "pygments_lexer": "ipython3",
   "version": "3.9.12 (main, Apr  5 2022, 06:56:58) \n[GCC 7.5.0]"
  },
  "orig_nbformat": 4,
  "vscode": {
   "interpreter": {
    "hash": "e9b9a3e75ca6fe8698b217f7d02bed86aa7c51e8d45c2c5f430d4f3a3a1183ab"
   }
  }
 },
 "nbformat": 4,
 "nbformat_minor": 2
}
