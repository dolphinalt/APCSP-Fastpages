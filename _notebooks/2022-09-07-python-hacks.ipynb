{
    "cells": [
     {
      "cell_type": "markdown",
      "metadata": {},
      "source": [
       "# Python hacks project\n",
       "> Ethan Zhao\n",
       "\n",
       "- toc: true \n",
       "- badges: true\n",
       "- comments: true\n",
       "- categories: [jupyter]"
      ]
     },
     {
      "cell_type": "markdown",
      "metadata": {},
      "source": [
       "# Python hacks"
      ]
     },
     {
      "cell_type": "markdown",
      "metadata": {},
      "source": [
       "## Usage of loops"
      ]
     },
     {
      "cell_type": "markdown",
      "metadata": {},
      "source": [
       "Referenced code:"
      ]
     },
     {
      "cell_type": "code",
      "execution_count": null,
      "metadata": {},
      "outputs": [],
      "source": [
       "# imports\n",
       "import getpass\n",
       "\n",
       "# question format, gets user answer\n",
       "def question_with_response(prompt):\n",
       "    print(\"Question: \" + prompt)\n",
       "    msg = input()\n",
       "    return msg\n",
       "\n",
       "# lists of questions/answers\n",
       "prompts=[\"What command would you use to display text into the terminal?\", \"What command would you use to ask the user for information?\", \"What is the keyword used in Python to define a function?\", \"How would you write a print statement to concatenate a string containing variable A with string 'Hello'? (include print() and use '' instead of \\\"\\\"\", \"How do we add a pre-made library to our code?\", \"We use _______ to store information for later use.\", \"Given the code, {variable = 1} what type of variable is this?\", \"Given the code, {variable = 1.1} what type of variable is this?\", \"Given the code, {variable = 'Hello'} what type of variable is this?\"]\n",
       "answers=[\"print\", \"input\", \"def\", \"print('hello' + a)\", \"import\", \"variables\", \"integer\", \"float\", \"string\"]\n",
       "\n",
       "correct = 0\n",
       "questions = len(prompts)\n",
       "\n",
       "# corrects answers, awards a point if correct\n",
       "def gradeResponse(response, answer):\n",
       "    global correct\n",
       "    # convert to lowercase so ppl don't yell at me for scoring them as wrong when they went \"prinT\"\n",
       "    if response.lower() == answer:\n",
       "        print(f\"{response} is correct!\\nGood job :D\")\n",
       "        correct += 1\n",
       "    else:\n",
       "        print(f\"{response} is incorrect!\\nBetter luck next time :(\")\n",
       "\n",
       "# ask user if they want to proceed, exit if no\n",
       "print(f\"Hello {getpass.getuser()}!\")\n",
       "print(f\"You will be asked {str(questions)} questions.\")\n",
       "rsp = question_with_response(\"Are you ready to take a quiz? [Y/n]\")\n",
       "if rsp.lower() == \"y\":\n",
       "    print(\"Lets get started!\")\n",
       "else:\n",
       "    print(\"Bye :(\")\n",
       "    exit()\n",
       "\n",
       "# cycle through all questions, score the questions\n",
       "for i in range(0, questions):\n",
       "    rsp = question_with_response(prompts[i])\n",
       "    gradeResponse(rsp, answers[i])\n",
       "\n",
       "# calculate percentage\n",
       "percentage=(correct/questions)*100\n",
       "percentage=round(percentage, 2)\n",
       "\n",
       "# report score\n",
       "print(f\"You got a total of {correct} out of {questions} ({percentage}%)!\")"
      ]
     },
     {
      "cell_type": "markdown",
      "metadata": {},
      "source": [
       "### For loop\n",
       "As seen here:\n",
       "\n",
       "```py\n",
       "for i in range(0, questions):\n",
       "    rsp = question_with_response(prompts[i])\n",
       "    gradeResponse(rsp, answers[i])\n",
       "```\n",
       "\n",
       "The for loop is looping through all questions and grading the responses. It is doing this by referencing the index of the value in the list of all questions. I am able to make sure that no matter the size of the list, I am always able to be confident that I will loop through all questions, as I am using the the variable `questions`, representing the total amount of entries in the list."
      ]
     },
     {
      "cell_type": "markdown",
      "metadata": {},
      "source": [
       "### If statement\n",
       "As seen here:\n",
       "\n",
       "```py\n",
       "def gradeResponse(response, answer):\n",
       "    global correct\n",
       "    # convert to lowercase so ppl don't yell at me for scoring them as wrong when they went \"prinT\"\n",
       "    if response.lower() == answer:\n",
       "        print(f\"{response} is correct!\\nGood job :D\")\n",
       "        correct += 1\n",
       "    else:\n",
       "        print(f\"{response} is incorrect!\\nBetter luck next time :(\")\n",
       "```\n",
       "\n",
       "The if statement is checking if the answers response corresponds to the answer in the `answers` list. If so, then it will award the user with a point, as well as letting them know that they were correct. If the user was wrong, meaning their response didn't match the defined answer, the program will not add a point, and let the user know that they have gotten the question incorrect."
      ]
     },
     {
      "cell_type": "markdown",
      "metadata": {},
      "source": [
       "### While loop\n",
       "As there is no while loop in this program, I will provide an example of a possible usage of a while loop here:\n",
       "\n",
       "```py\n",
       "i = 0\n",
       "while i < 10:\n",
       "    i += 1\n",
       "    print(f\"Hello World {i}!\")\n",
       "```\n",
       "\n",
       "This while statement will print out the statement \"Hello world {i}\", where i is the current value that the loop is on. This loop will print out a total of 10 statements, from the values of 1, all the way up to 10."
      ]
     }
    ],
    "metadata": {
     "kernelspec": {
      "display_name": "Python 3.8.9 64-bit",
      "language": "python",
      "name": "python3"
     },
     "language_info": {
      "name": "python",
      "version": "3.8.9"
     },
     "orig_nbformat": 4,
     "vscode": {
      "interpreter": {
       "hash": "31f2aee4e71d21fbe5cf8b01ff0e069b9275f58929596ceb00d14d90e3e16cd6"
      }
     }
    },
    "nbformat": 4,
    "nbformat_minor": 2
   }
   